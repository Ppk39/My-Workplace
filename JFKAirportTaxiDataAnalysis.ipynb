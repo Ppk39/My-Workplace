{
 "cells": [
  {
   "cell_type": "code",
   "execution_count": 1,
   "id": "bd3093b3",
   "metadata": {},
   "outputs": [],
   "source": [
    "import numpy as np\n"
   ]
  },
  {
   "cell_type": "code",
   "execution_count": null,
   "id": "be699502",
   "metadata": {},
   "outputs": [],
   "source": [
    "# Import file and creat an array\n",
    "taxi=np.genfromtxt(\"C:/Users/Pratik/Desktop/ML-AI/nyc_taxis.csv\", delimiter=',', skip_header=True)"
   ]
  },
  {
   "cell_type": "code",
   "execution_count": 5,
   "id": "aadb3335",
   "metadata": {},
   "outputs": [
    {
     "data": {
      "text/plain": [
       "array([[2.016e+03, 1.000e+00, 1.000e+00, ..., 1.165e+01, 6.999e+01,\n",
       "        1.000e+00],\n",
       "       [2.016e+03, 1.000e+00, 1.000e+00, ..., 8.000e+00, 5.430e+01,\n",
       "        1.000e+00],\n",
       "       [2.016e+03, 1.000e+00, 1.000e+00, ..., 0.000e+00, 3.780e+01,\n",
       "        2.000e+00],\n",
       "       ...,\n",
       "       [2.016e+03, 6.000e+00, 3.000e+01, ..., 5.000e+00, 6.334e+01,\n",
       "        1.000e+00],\n",
       "       [2.016e+03, 6.000e+00, 3.000e+01, ..., 8.950e+00, 4.475e+01,\n",
       "        1.000e+00],\n",
       "       [2.016e+03, 6.000e+00, 3.000e+01, ..., 0.000e+00, 5.484e+01,\n",
       "        2.000e+00]])"
      ]
     },
     "execution_count": 5,
     "metadata": {},
     "output_type": "execute_result"
    }
   ],
   "source": [
    "taxi"
   ]
  },
  {
   "cell_type": "code",
   "execution_count": 6,
   "id": "25d075e5",
   "metadata": {},
   "outputs": [],
   "source": [
    "#calculate the mean speed of rides\n",
    "speed=taxi[:,7]/ (taxi[:,8]/3600)"
   ]
  },
  {
   "cell_type": "code",
   "execution_count": 7,
   "id": "50069034",
   "metadata": {},
   "outputs": [
    {
     "name": "stdout",
     "output_type": "stream",
     "text": [
      "32.24258580925573\n"
     ]
    }
   ],
   "source": [
    "mean_speed=speed.mean()\n",
    "print(mean_speed)"
   ]
  },
  {
   "cell_type": "code",
   "execution_count": 8,
   "id": "dd22ad19",
   "metadata": {},
   "outputs": [],
   "source": [
    "#number of rides taken in february\n",
    "rides_feb=taxi[taxi[:,1] ==2,1]"
   ]
  },
  {
   "cell_type": "code",
   "execution_count": 9,
   "id": "62e3f914",
   "metadata": {},
   "outputs": [
    {
     "data": {
      "text/plain": [
       "array([2., 2., 2., ..., 2., 2., 2.])"
      ]
     },
     "execution_count": 9,
     "metadata": {},
     "output_type": "execute_result"
    }
   ],
   "source": [
    "rides_feb"
   ]
  },
  {
   "cell_type": "code",
   "execution_count": 10,
   "id": "a0fa6eb5",
   "metadata": {},
   "outputs": [
    {
     "name": "stdout",
     "output_type": "stream",
     "text": [
      "13333\n"
     ]
    }
   ],
   "source": [
    "print(rides_feb.shape[0])"
   ]
  },
  {
   "cell_type": "code",
   "execution_count": 11,
   "id": "e73d542b",
   "metadata": {},
   "outputs": [
    {
     "name": "stdout",
     "output_type": "stream",
     "text": [
      "16\n"
     ]
    }
   ],
   "source": [
    "#Number of rides when tip is more than 50\n",
    "print(taxi[taxi[:,-3]> 50,-3].shape[0])"
   ]
  },
  {
   "cell_type": "code",
   "execution_count": 12,
   "id": "cc9db6ac",
   "metadata": {},
   "outputs": [
    {
     "name": "stdout",
     "output_type": "stream",
     "text": [
      "11832\n"
     ]
    }
   ],
   "source": [
    "#number of rides when rides  drop was JFK Airport\n",
    "print(taxi[taxi[:,6]==2,6].shape[0])"
   ]
  },
  {
   "cell_type": "markdown",
   "id": "3cdb725e",
   "metadata": {},
   "source": [
    "# Analysis\n",
    "Mean Speed = 32.24258580925573 m/h\n",
    "number of rides taken in february= 13333\n",
    "Number of rides when tip is more than 50= 16\n",
    "number of rides when rides  drop was JFK Airport =11832\n"
   ]
  }
 ],
 "metadata": {
  "kernelspec": {
   "display_name": "Python 3 (ipykernel)",
   "language": "python",
   "name": "python3"
  },
  "language_info": {
   "codemirror_mode": {
    "name": "ipython",
    "version": 3
   },
   "file_extension": ".py",
   "mimetype": "text/x-python",
   "name": "python",
   "nbconvert_exporter": "python",
   "pygments_lexer": "ipython3",
   "version": "3.10.9"
  }
 },
 "nbformat": 4,
 "nbformat_minor": 5
}
