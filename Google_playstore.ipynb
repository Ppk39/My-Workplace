{
 "cells": [
  {
   "cell_type": "code",
   "execution_count": 1,
   "id": "41d9c03a-7fd1-4c87-933a-c7dd6abe37cc",
   "metadata": {},
   "outputs": [],
   "source": [
    "import pandas as pd\n",
    "import numpy as np\n",
    "import matplotlib.pyplot as plt\n",
    "import seaborn as sns"
   ]
  },
  {
   "cell_type": "code",
   "execution_count": 2,
   "id": "5fb37768-bf57-471b-90b7-9b1eabefa0e1",
   "metadata": {},
   "outputs": [
    {
     "ename": "FileNotFoundError",
     "evalue": "[Errno 2] No such file or directory: 'googleplaystore.csv'",
     "output_type": "error",
     "traceback": [
      "\u001b[1;31m---------------------------------------------------------------------------\u001b[0m",
      "\u001b[1;31mFileNotFoundError\u001b[0m                         Traceback (most recent call last)",
      "Cell \u001b[1;32mIn[2], line 1\u001b[0m\n\u001b[1;32m----> 1\u001b[0m data \u001b[38;5;241m=\u001b[39m \u001b[43mpd\u001b[49m\u001b[38;5;241;43m.\u001b[39;49m\u001b[43mread_csv\u001b[49m\u001b[43m(\u001b[49m\u001b[38;5;124;43m\"\u001b[39;49m\u001b[38;5;124;43mgoogleplaystore.csv\u001b[39;49m\u001b[38;5;124;43m\"\u001b[39;49m\u001b[43m)\u001b[49m\n",
      "File \u001b[1;32m~\\anaconda3\\lib\\site-packages\\pandas\\util\\_decorators.py:211\u001b[0m, in \u001b[0;36mdeprecate_kwarg.<locals>._deprecate_kwarg.<locals>.wrapper\u001b[1;34m(*args, **kwargs)\u001b[0m\n\u001b[0;32m    209\u001b[0m     \u001b[38;5;28;01melse\u001b[39;00m:\n\u001b[0;32m    210\u001b[0m         kwargs[new_arg_name] \u001b[38;5;241m=\u001b[39m new_arg_value\n\u001b[1;32m--> 211\u001b[0m \u001b[38;5;28;01mreturn\u001b[39;00m func(\u001b[38;5;241m*\u001b[39margs, \u001b[38;5;241m*\u001b[39m\u001b[38;5;241m*\u001b[39mkwargs)\n",
      "File \u001b[1;32m~\\anaconda3\\lib\\site-packages\\pandas\\util\\_decorators.py:331\u001b[0m, in \u001b[0;36mdeprecate_nonkeyword_arguments.<locals>.decorate.<locals>.wrapper\u001b[1;34m(*args, **kwargs)\u001b[0m\n\u001b[0;32m    325\u001b[0m \u001b[38;5;28;01mif\u001b[39;00m \u001b[38;5;28mlen\u001b[39m(args) \u001b[38;5;241m>\u001b[39m num_allow_args:\n\u001b[0;32m    326\u001b[0m     warnings\u001b[38;5;241m.\u001b[39mwarn(\n\u001b[0;32m    327\u001b[0m         msg\u001b[38;5;241m.\u001b[39mformat(arguments\u001b[38;5;241m=\u001b[39m_format_argument_list(allow_args)),\n\u001b[0;32m    328\u001b[0m         \u001b[38;5;167;01mFutureWarning\u001b[39;00m,\n\u001b[0;32m    329\u001b[0m         stacklevel\u001b[38;5;241m=\u001b[39mfind_stack_level(),\n\u001b[0;32m    330\u001b[0m     )\n\u001b[1;32m--> 331\u001b[0m \u001b[38;5;28;01mreturn\u001b[39;00m func(\u001b[38;5;241m*\u001b[39margs, \u001b[38;5;241m*\u001b[39m\u001b[38;5;241m*\u001b[39mkwargs)\n",
      "File \u001b[1;32m~\\anaconda3\\lib\\site-packages\\pandas\\io\\parsers\\readers.py:950\u001b[0m, in \u001b[0;36mread_csv\u001b[1;34m(filepath_or_buffer, sep, delimiter, header, names, index_col, usecols, squeeze, prefix, mangle_dupe_cols, dtype, engine, converters, true_values, false_values, skipinitialspace, skiprows, skipfooter, nrows, na_values, keep_default_na, na_filter, verbose, skip_blank_lines, parse_dates, infer_datetime_format, keep_date_col, date_parser, dayfirst, cache_dates, iterator, chunksize, compression, thousands, decimal, lineterminator, quotechar, quoting, doublequote, escapechar, comment, encoding, encoding_errors, dialect, error_bad_lines, warn_bad_lines, on_bad_lines, delim_whitespace, low_memory, memory_map, float_precision, storage_options)\u001b[0m\n\u001b[0;32m    935\u001b[0m kwds_defaults \u001b[38;5;241m=\u001b[39m _refine_defaults_read(\n\u001b[0;32m    936\u001b[0m     dialect,\n\u001b[0;32m    937\u001b[0m     delimiter,\n\u001b[1;32m   (...)\u001b[0m\n\u001b[0;32m    946\u001b[0m     defaults\u001b[38;5;241m=\u001b[39m{\u001b[38;5;124m\"\u001b[39m\u001b[38;5;124mdelimiter\u001b[39m\u001b[38;5;124m\"\u001b[39m: \u001b[38;5;124m\"\u001b[39m\u001b[38;5;124m,\u001b[39m\u001b[38;5;124m\"\u001b[39m},\n\u001b[0;32m    947\u001b[0m )\n\u001b[0;32m    948\u001b[0m kwds\u001b[38;5;241m.\u001b[39mupdate(kwds_defaults)\n\u001b[1;32m--> 950\u001b[0m \u001b[38;5;28;01mreturn\u001b[39;00m \u001b[43m_read\u001b[49m\u001b[43m(\u001b[49m\u001b[43mfilepath_or_buffer\u001b[49m\u001b[43m,\u001b[49m\u001b[43m \u001b[49m\u001b[43mkwds\u001b[49m\u001b[43m)\u001b[49m\n",
      "File \u001b[1;32m~\\anaconda3\\lib\\site-packages\\pandas\\io\\parsers\\readers.py:605\u001b[0m, in \u001b[0;36m_read\u001b[1;34m(filepath_or_buffer, kwds)\u001b[0m\n\u001b[0;32m    602\u001b[0m _validate_names(kwds\u001b[38;5;241m.\u001b[39mget(\u001b[38;5;124m\"\u001b[39m\u001b[38;5;124mnames\u001b[39m\u001b[38;5;124m\"\u001b[39m, \u001b[38;5;28;01mNone\u001b[39;00m))\n\u001b[0;32m    604\u001b[0m \u001b[38;5;66;03m# Create the parser.\u001b[39;00m\n\u001b[1;32m--> 605\u001b[0m parser \u001b[38;5;241m=\u001b[39m TextFileReader(filepath_or_buffer, \u001b[38;5;241m*\u001b[39m\u001b[38;5;241m*\u001b[39mkwds)\n\u001b[0;32m    607\u001b[0m \u001b[38;5;28;01mif\u001b[39;00m chunksize \u001b[38;5;129;01mor\u001b[39;00m iterator:\n\u001b[0;32m    608\u001b[0m     \u001b[38;5;28;01mreturn\u001b[39;00m parser\n",
      "File \u001b[1;32m~\\anaconda3\\lib\\site-packages\\pandas\\io\\parsers\\readers.py:1442\u001b[0m, in \u001b[0;36mTextFileReader.__init__\u001b[1;34m(self, f, engine, **kwds)\u001b[0m\n\u001b[0;32m   1439\u001b[0m     \u001b[38;5;28mself\u001b[39m\u001b[38;5;241m.\u001b[39moptions[\u001b[38;5;124m\"\u001b[39m\u001b[38;5;124mhas_index_names\u001b[39m\u001b[38;5;124m\"\u001b[39m] \u001b[38;5;241m=\u001b[39m kwds[\u001b[38;5;124m\"\u001b[39m\u001b[38;5;124mhas_index_names\u001b[39m\u001b[38;5;124m\"\u001b[39m]\n\u001b[0;32m   1441\u001b[0m \u001b[38;5;28mself\u001b[39m\u001b[38;5;241m.\u001b[39mhandles: IOHandles \u001b[38;5;241m|\u001b[39m \u001b[38;5;28;01mNone\u001b[39;00m \u001b[38;5;241m=\u001b[39m \u001b[38;5;28;01mNone\u001b[39;00m\n\u001b[1;32m-> 1442\u001b[0m \u001b[38;5;28mself\u001b[39m\u001b[38;5;241m.\u001b[39m_engine \u001b[38;5;241m=\u001b[39m \u001b[38;5;28;43mself\u001b[39;49m\u001b[38;5;241;43m.\u001b[39;49m\u001b[43m_make_engine\u001b[49m\u001b[43m(\u001b[49m\u001b[43mf\u001b[49m\u001b[43m,\u001b[49m\u001b[43m \u001b[49m\u001b[38;5;28;43mself\u001b[39;49m\u001b[38;5;241;43m.\u001b[39;49m\u001b[43mengine\u001b[49m\u001b[43m)\u001b[49m\n",
      "File \u001b[1;32m~\\anaconda3\\lib\\site-packages\\pandas\\io\\parsers\\readers.py:1735\u001b[0m, in \u001b[0;36mTextFileReader._make_engine\u001b[1;34m(self, f, engine)\u001b[0m\n\u001b[0;32m   1733\u001b[0m     \u001b[38;5;28;01mif\u001b[39;00m \u001b[38;5;124m\"\u001b[39m\u001b[38;5;124mb\u001b[39m\u001b[38;5;124m\"\u001b[39m \u001b[38;5;129;01mnot\u001b[39;00m \u001b[38;5;129;01min\u001b[39;00m mode:\n\u001b[0;32m   1734\u001b[0m         mode \u001b[38;5;241m+\u001b[39m\u001b[38;5;241m=\u001b[39m \u001b[38;5;124m\"\u001b[39m\u001b[38;5;124mb\u001b[39m\u001b[38;5;124m\"\u001b[39m\n\u001b[1;32m-> 1735\u001b[0m \u001b[38;5;28mself\u001b[39m\u001b[38;5;241m.\u001b[39mhandles \u001b[38;5;241m=\u001b[39m \u001b[43mget_handle\u001b[49m\u001b[43m(\u001b[49m\n\u001b[0;32m   1736\u001b[0m \u001b[43m    \u001b[49m\u001b[43mf\u001b[49m\u001b[43m,\u001b[49m\n\u001b[0;32m   1737\u001b[0m \u001b[43m    \u001b[49m\u001b[43mmode\u001b[49m\u001b[43m,\u001b[49m\n\u001b[0;32m   1738\u001b[0m \u001b[43m    \u001b[49m\u001b[43mencoding\u001b[49m\u001b[38;5;241;43m=\u001b[39;49m\u001b[38;5;28;43mself\u001b[39;49m\u001b[38;5;241;43m.\u001b[39;49m\u001b[43moptions\u001b[49m\u001b[38;5;241;43m.\u001b[39;49m\u001b[43mget\u001b[49m\u001b[43m(\u001b[49m\u001b[38;5;124;43m\"\u001b[39;49m\u001b[38;5;124;43mencoding\u001b[39;49m\u001b[38;5;124;43m\"\u001b[39;49m\u001b[43m,\u001b[49m\u001b[43m \u001b[49m\u001b[38;5;28;43;01mNone\u001b[39;49;00m\u001b[43m)\u001b[49m\u001b[43m,\u001b[49m\n\u001b[0;32m   1739\u001b[0m \u001b[43m    \u001b[49m\u001b[43mcompression\u001b[49m\u001b[38;5;241;43m=\u001b[39;49m\u001b[38;5;28;43mself\u001b[39;49m\u001b[38;5;241;43m.\u001b[39;49m\u001b[43moptions\u001b[49m\u001b[38;5;241;43m.\u001b[39;49m\u001b[43mget\u001b[49m\u001b[43m(\u001b[49m\u001b[38;5;124;43m\"\u001b[39;49m\u001b[38;5;124;43mcompression\u001b[39;49m\u001b[38;5;124;43m\"\u001b[39;49m\u001b[43m,\u001b[49m\u001b[43m \u001b[49m\u001b[38;5;28;43;01mNone\u001b[39;49;00m\u001b[43m)\u001b[49m\u001b[43m,\u001b[49m\n\u001b[0;32m   1740\u001b[0m \u001b[43m    \u001b[49m\u001b[43mmemory_map\u001b[49m\u001b[38;5;241;43m=\u001b[39;49m\u001b[38;5;28;43mself\u001b[39;49m\u001b[38;5;241;43m.\u001b[39;49m\u001b[43moptions\u001b[49m\u001b[38;5;241;43m.\u001b[39;49m\u001b[43mget\u001b[49m\u001b[43m(\u001b[49m\u001b[38;5;124;43m\"\u001b[39;49m\u001b[38;5;124;43mmemory_map\u001b[39;49m\u001b[38;5;124;43m\"\u001b[39;49m\u001b[43m,\u001b[49m\u001b[43m \u001b[49m\u001b[38;5;28;43;01mFalse\u001b[39;49;00m\u001b[43m)\u001b[49m\u001b[43m,\u001b[49m\n\u001b[0;32m   1741\u001b[0m \u001b[43m    \u001b[49m\u001b[43mis_text\u001b[49m\u001b[38;5;241;43m=\u001b[39;49m\u001b[43mis_text\u001b[49m\u001b[43m,\u001b[49m\n\u001b[0;32m   1742\u001b[0m \u001b[43m    \u001b[49m\u001b[43merrors\u001b[49m\u001b[38;5;241;43m=\u001b[39;49m\u001b[38;5;28;43mself\u001b[39;49m\u001b[38;5;241;43m.\u001b[39;49m\u001b[43moptions\u001b[49m\u001b[38;5;241;43m.\u001b[39;49m\u001b[43mget\u001b[49m\u001b[43m(\u001b[49m\u001b[38;5;124;43m\"\u001b[39;49m\u001b[38;5;124;43mencoding_errors\u001b[39;49m\u001b[38;5;124;43m\"\u001b[39;49m\u001b[43m,\u001b[49m\u001b[43m \u001b[49m\u001b[38;5;124;43m\"\u001b[39;49m\u001b[38;5;124;43mstrict\u001b[39;49m\u001b[38;5;124;43m\"\u001b[39;49m\u001b[43m)\u001b[49m\u001b[43m,\u001b[49m\n\u001b[0;32m   1743\u001b[0m \u001b[43m    \u001b[49m\u001b[43mstorage_options\u001b[49m\u001b[38;5;241;43m=\u001b[39;49m\u001b[38;5;28;43mself\u001b[39;49m\u001b[38;5;241;43m.\u001b[39;49m\u001b[43moptions\u001b[49m\u001b[38;5;241;43m.\u001b[39;49m\u001b[43mget\u001b[49m\u001b[43m(\u001b[49m\u001b[38;5;124;43m\"\u001b[39;49m\u001b[38;5;124;43mstorage_options\u001b[39;49m\u001b[38;5;124;43m\"\u001b[39;49m\u001b[43m,\u001b[49m\u001b[43m \u001b[49m\u001b[38;5;28;43;01mNone\u001b[39;49;00m\u001b[43m)\u001b[49m\u001b[43m,\u001b[49m\n\u001b[0;32m   1744\u001b[0m \u001b[43m\u001b[49m\u001b[43m)\u001b[49m\n\u001b[0;32m   1745\u001b[0m \u001b[38;5;28;01massert\u001b[39;00m \u001b[38;5;28mself\u001b[39m\u001b[38;5;241m.\u001b[39mhandles \u001b[38;5;129;01mis\u001b[39;00m \u001b[38;5;129;01mnot\u001b[39;00m \u001b[38;5;28;01mNone\u001b[39;00m\n\u001b[0;32m   1746\u001b[0m f \u001b[38;5;241m=\u001b[39m \u001b[38;5;28mself\u001b[39m\u001b[38;5;241m.\u001b[39mhandles\u001b[38;5;241m.\u001b[39mhandle\n",
      "File \u001b[1;32m~\\anaconda3\\lib\\site-packages\\pandas\\io\\common.py:856\u001b[0m, in \u001b[0;36mget_handle\u001b[1;34m(path_or_buf, mode, encoding, compression, memory_map, is_text, errors, storage_options)\u001b[0m\n\u001b[0;32m    851\u001b[0m \u001b[38;5;28;01melif\u001b[39;00m \u001b[38;5;28misinstance\u001b[39m(handle, \u001b[38;5;28mstr\u001b[39m):\n\u001b[0;32m    852\u001b[0m     \u001b[38;5;66;03m# Check whether the filename is to be opened in binary mode.\u001b[39;00m\n\u001b[0;32m    853\u001b[0m     \u001b[38;5;66;03m# Binary mode does not support 'encoding' and 'newline'.\u001b[39;00m\n\u001b[0;32m    854\u001b[0m     \u001b[38;5;28;01mif\u001b[39;00m ioargs\u001b[38;5;241m.\u001b[39mencoding \u001b[38;5;129;01mand\u001b[39;00m \u001b[38;5;124m\"\u001b[39m\u001b[38;5;124mb\u001b[39m\u001b[38;5;124m\"\u001b[39m \u001b[38;5;129;01mnot\u001b[39;00m \u001b[38;5;129;01min\u001b[39;00m ioargs\u001b[38;5;241m.\u001b[39mmode:\n\u001b[0;32m    855\u001b[0m         \u001b[38;5;66;03m# Encoding\u001b[39;00m\n\u001b[1;32m--> 856\u001b[0m         handle \u001b[38;5;241m=\u001b[39m \u001b[38;5;28;43mopen\u001b[39;49m\u001b[43m(\u001b[49m\n\u001b[0;32m    857\u001b[0m \u001b[43m            \u001b[49m\u001b[43mhandle\u001b[49m\u001b[43m,\u001b[49m\n\u001b[0;32m    858\u001b[0m \u001b[43m            \u001b[49m\u001b[43mioargs\u001b[49m\u001b[38;5;241;43m.\u001b[39;49m\u001b[43mmode\u001b[49m\u001b[43m,\u001b[49m\n\u001b[0;32m    859\u001b[0m \u001b[43m            \u001b[49m\u001b[43mencoding\u001b[49m\u001b[38;5;241;43m=\u001b[39;49m\u001b[43mioargs\u001b[49m\u001b[38;5;241;43m.\u001b[39;49m\u001b[43mencoding\u001b[49m\u001b[43m,\u001b[49m\n\u001b[0;32m    860\u001b[0m \u001b[43m            \u001b[49m\u001b[43merrors\u001b[49m\u001b[38;5;241;43m=\u001b[39;49m\u001b[43merrors\u001b[49m\u001b[43m,\u001b[49m\n\u001b[0;32m    861\u001b[0m \u001b[43m            \u001b[49m\u001b[43mnewline\u001b[49m\u001b[38;5;241;43m=\u001b[39;49m\u001b[38;5;124;43m\"\u001b[39;49m\u001b[38;5;124;43m\"\u001b[39;49m\u001b[43m,\u001b[49m\n\u001b[0;32m    862\u001b[0m \u001b[43m        \u001b[49m\u001b[43m)\u001b[49m\n\u001b[0;32m    863\u001b[0m     \u001b[38;5;28;01melse\u001b[39;00m:\n\u001b[0;32m    864\u001b[0m         \u001b[38;5;66;03m# Binary mode\u001b[39;00m\n\u001b[0;32m    865\u001b[0m         handle \u001b[38;5;241m=\u001b[39m \u001b[38;5;28mopen\u001b[39m(handle, ioargs\u001b[38;5;241m.\u001b[39mmode)\n",
      "\u001b[1;31mFileNotFoundError\u001b[0m: [Errno 2] No such file or directory: 'googleplaystore.csv'"
     ]
    }
   ],
   "source": [
    "data = pd.read_csv(\"googleplaystore.csv\")"
   ]
  },
  {
   "cell_type": "code",
   "execution_count": null,
   "id": "5510e92a-d63c-41ea-b513-51f3047237a5",
   "metadata": {},
   "outputs": [],
   "source": [
    "df = data.copy()"
   ]
  },
  {
   "cell_type": "code",
   "execution_count": null,
   "id": "f46134be-7238-4751-a017-6084308f9287",
   "metadata": {},
   "outputs": [],
   "source": []
  },
  {
   "cell_type": "code",
   "execution_count": 4,
   "id": "02d224b5-9a29-460b-b744-20a024b88353",
   "metadata": {},
   "outputs": [
    {
     "data": {
      "text/html": [
       "<div>\n",
       "<style scoped>\n",
       "    .dataframe tbody tr th:only-of-type {\n",
       "        vertical-align: middle;\n",
       "    }\n",
       "\n",
       "    .dataframe tbody tr th {\n",
       "        vertical-align: top;\n",
       "    }\n",
       "\n",
       "    .dataframe thead th {\n",
       "        text-align: right;\n",
       "    }\n",
       "</style>\n",
       "<table border=\"1\" class=\"dataframe\">\n",
       "  <thead>\n",
       "    <tr style=\"text-align: right;\">\n",
       "      <th></th>\n",
       "      <th>App</th>\n",
       "      <th>Category</th>\n",
       "      <th>Rating</th>\n",
       "      <th>Reviews</th>\n",
       "      <th>Size</th>\n",
       "      <th>Installs</th>\n",
       "      <th>Type</th>\n",
       "      <th>Price</th>\n",
       "      <th>Content Rating</th>\n",
       "      <th>Genres</th>\n",
       "      <th>Last Updated</th>\n",
       "      <th>Current Ver</th>\n",
       "      <th>Android Ver</th>\n",
       "    </tr>\n",
       "  </thead>\n",
       "  <tbody>\n",
       "    <tr>\n",
       "      <th>0</th>\n",
       "      <td>Photo Editor &amp; Candy Camera &amp; Grid &amp; ScrapBook</td>\n",
       "      <td>ART_AND_DESIGN</td>\n",
       "      <td>4.1</td>\n",
       "      <td>159</td>\n",
       "      <td>19M</td>\n",
       "      <td>10,000+</td>\n",
       "      <td>Free</td>\n",
       "      <td>0</td>\n",
       "      <td>Everyone</td>\n",
       "      <td>Art &amp; Design</td>\n",
       "      <td>January 7, 2018</td>\n",
       "      <td>1.0.0</td>\n",
       "      <td>4.0.3 and up</td>\n",
       "    </tr>\n",
       "    <tr>\n",
       "      <th>1</th>\n",
       "      <td>Coloring book moana</td>\n",
       "      <td>ART_AND_DESIGN</td>\n",
       "      <td>3.9</td>\n",
       "      <td>967</td>\n",
       "      <td>14M</td>\n",
       "      <td>500,000+</td>\n",
       "      <td>Free</td>\n",
       "      <td>0</td>\n",
       "      <td>Everyone</td>\n",
       "      <td>Art &amp; Design;Pretend Play</td>\n",
       "      <td>January 15, 2018</td>\n",
       "      <td>2.0.0</td>\n",
       "      <td>4.0.3 and up</td>\n",
       "    </tr>\n",
       "    <tr>\n",
       "      <th>2</th>\n",
       "      <td>U Launcher Lite – FREE Live Cool Themes, Hide ...</td>\n",
       "      <td>ART_AND_DESIGN</td>\n",
       "      <td>4.7</td>\n",
       "      <td>87510</td>\n",
       "      <td>8.7M</td>\n",
       "      <td>5,000,000+</td>\n",
       "      <td>Free</td>\n",
       "      <td>0</td>\n",
       "      <td>Everyone</td>\n",
       "      <td>Art &amp; Design</td>\n",
       "      <td>August 1, 2018</td>\n",
       "      <td>1.2.4</td>\n",
       "      <td>4.0.3 and up</td>\n",
       "    </tr>\n",
       "    <tr>\n",
       "      <th>3</th>\n",
       "      <td>Sketch - Draw &amp; Paint</td>\n",
       "      <td>ART_AND_DESIGN</td>\n",
       "      <td>4.5</td>\n",
       "      <td>215644</td>\n",
       "      <td>25M</td>\n",
       "      <td>50,000,000+</td>\n",
       "      <td>Free</td>\n",
       "      <td>0</td>\n",
       "      <td>Teen</td>\n",
       "      <td>Art &amp; Design</td>\n",
       "      <td>June 8, 2018</td>\n",
       "      <td>Varies with device</td>\n",
       "      <td>4.2 and up</td>\n",
       "    </tr>\n",
       "    <tr>\n",
       "      <th>4</th>\n",
       "      <td>Pixel Draw - Number Art Coloring Book</td>\n",
       "      <td>ART_AND_DESIGN</td>\n",
       "      <td>4.3</td>\n",
       "      <td>967</td>\n",
       "      <td>2.8M</td>\n",
       "      <td>100,000+</td>\n",
       "      <td>Free</td>\n",
       "      <td>0</td>\n",
       "      <td>Everyone</td>\n",
       "      <td>Art &amp; Design;Creativity</td>\n",
       "      <td>June 20, 2018</td>\n",
       "      <td>1.1</td>\n",
       "      <td>4.4 and up</td>\n",
       "    </tr>\n",
       "  </tbody>\n",
       "</table>\n",
       "</div>"
      ],
      "text/plain": [
       "                                                 App        Category  Rating  \\\n",
       "0     Photo Editor & Candy Camera & Grid & ScrapBook  ART_AND_DESIGN     4.1   \n",
       "1                                Coloring book moana  ART_AND_DESIGN     3.9   \n",
       "2  U Launcher Lite – FREE Live Cool Themes, Hide ...  ART_AND_DESIGN     4.7   \n",
       "3                              Sketch - Draw & Paint  ART_AND_DESIGN     4.5   \n",
       "4              Pixel Draw - Number Art Coloring Book  ART_AND_DESIGN     4.3   \n",
       "\n",
       "  Reviews  Size     Installs  Type Price Content Rating  \\\n",
       "0     159   19M      10,000+  Free     0       Everyone   \n",
       "1     967   14M     500,000+  Free     0       Everyone   \n",
       "2   87510  8.7M   5,000,000+  Free     0       Everyone   \n",
       "3  215644   25M  50,000,000+  Free     0           Teen   \n",
       "4     967  2.8M     100,000+  Free     0       Everyone   \n",
       "\n",
       "                      Genres      Last Updated         Current Ver  \\\n",
       "0               Art & Design   January 7, 2018               1.0.0   \n",
       "1  Art & Design;Pretend Play  January 15, 2018               2.0.0   \n",
       "2               Art & Design    August 1, 2018               1.2.4   \n",
       "3               Art & Design      June 8, 2018  Varies with device   \n",
       "4    Art & Design;Creativity     June 20, 2018                 1.1   \n",
       "\n",
       "    Android Ver  \n",
       "0  4.0.3 and up  \n",
       "1  4.0.3 and up  \n",
       "2  4.0.3 and up  \n",
       "3    4.2 and up  \n",
       "4    4.4 and up  "
      ]
     },
     "execution_count": 4,
     "metadata": {},
     "output_type": "execute_result"
    }
   ],
   "source": [
    "df.head()"
   ]
  },
  {
   "cell_type": "markdown",
   "id": "8179d353-a101-42ef-8f1f-261318512111",
   "metadata": {},
   "source": [
    "* Rating should be in range of 1 - 5.\n",
    "* Reviews should be greater than 0.\n",
    "* Size has values like 19M (19 MegaByte) it can also contain k for kilobyte need to change the scale of these type of data\n",
    "* In installs column data is not in integer type need to clean and change its type, If install has 0 values then respective to that app rating and reviews should be 0\n",
    "* Type and price are related to each other, if type is Free then price should be 0"
   ]
  },
  {
   "cell_type": "code",
   "execution_count": 5,
   "id": "91386d5c-05c9-4a8e-a5bd-21687f0dce5b",
   "metadata": {},
   "outputs": [
    {
     "name": "stdout",
     "output_type": "stream",
     "text": [
      "<class 'pandas.core.frame.DataFrame'>\n",
      "RangeIndex: 10841 entries, 0 to 10840\n",
      "Data columns (total 13 columns):\n",
      " #   Column          Non-Null Count  Dtype  \n",
      "---  ------          --------------  -----  \n",
      " 0   App             10841 non-null  object \n",
      " 1   Category        10841 non-null  object \n",
      " 2   Rating          9367 non-null   float64\n",
      " 3   Reviews         10841 non-null  object \n",
      " 4   Size            10841 non-null  object \n",
      " 5   Installs        10841 non-null  object \n",
      " 6   Type            10840 non-null  object \n",
      " 7   Price           10841 non-null  object \n",
      " 8   Content Rating  10840 non-null  object \n",
      " 9   Genres          10841 non-null  object \n",
      " 10  Last Updated    10841 non-null  object \n",
      " 11  Current Ver     10833 non-null  object \n",
      " 12  Android Ver     10838 non-null  object \n",
      "dtypes: float64(1), object(12)\n",
      "memory usage: 1.1+ MB\n"
     ]
    }
   ],
   "source": [
    "df.info()"
   ]
  },
  {
   "cell_type": "code",
   "execution_count": 6,
   "id": "119534dc-38c9-46c1-95c3-6daf4e8dab12",
   "metadata": {
    "scrolled": true
   },
   "outputs": [
    {
     "data": {
      "text/plain": [
       "Reviews\n",
       "0         596\n",
       "1         272\n",
       "2         214\n",
       "3         175\n",
       "4         137\n",
       "         ... \n",
       "342912      1\n",
       "4272        1\n",
       "5517        1\n",
       "4057        1\n",
       "398307      1\n",
       "Name: count, Length: 6002, dtype: int64"
      ]
     },
     "execution_count": 6,
     "metadata": {},
     "output_type": "execute_result"
    }
   ],
   "source": [
    "df[\"Reviews\"].value_counts()"
   ]
  },
  {
   "cell_type": "code",
   "execution_count": 7,
   "id": "26636f62-d7d1-4c0a-be49-463383c64af5",
   "metadata": {
    "scrolled": true
   },
   "outputs": [],
   "source": [
    "# df[\"Reviews\"].astype(\"int64\")"
   ]
  },
  {
   "cell_type": "code",
   "execution_count": 8,
   "id": "8d510ca4-7499-4761-ba94-4f1ce1d9f762",
   "metadata": {},
   "outputs": [],
   "source": [
    "df[\"Reviews\"] = df[\"Reviews\"].replace(\"3.0M\", \"3000000\")"
   ]
  },
  {
   "cell_type": "code",
   "execution_count": 9,
   "id": "c885e8fe-eb59-44f2-8fae-04b0335a82e6",
   "metadata": {},
   "outputs": [],
   "source": [
    "df[\"Reviews\"] = df[\"Reviews\"].astype(\"int64\")"
   ]
  },
  {
   "cell_type": "code",
   "execution_count": 10,
   "id": "a87f601a-31a7-46f0-a03d-4526f21454e7",
   "metadata": {},
   "outputs": [
    {
     "data": {
      "text/plain": [
       "dtype('int64')"
      ]
     },
     "execution_count": 10,
     "metadata": {},
     "output_type": "execute_result"
    }
   ],
   "source": [
    "df[\"Reviews\"].dtype"
   ]
  },
  {
   "cell_type": "code",
   "execution_count": 11,
   "id": "10d1f354-cb02-49dc-bbbb-670f729c0a21",
   "metadata": {
    "scrolled": true
   },
   "outputs": [
    {
     "data": {
      "text/plain": [
       "array(['19M', '14M', '8.7M', '25M', '2.8M', '5.6M', '29M', '33M', '3.1M',\n",
       "       '28M', '12M', '20M', '21M', '37M', '2.7M', '5.5M', '17M', '39M',\n",
       "       '31M', '4.2M', '7.0M', '23M', '6.0M', '6.1M', '4.6M', '9.2M',\n",
       "       '5.2M', '11M', '24M', 'Varies with device', '9.4M', '15M', '10M',\n",
       "       '1.2M', '26M', '8.0M', '7.9M', '56M', '57M', '35M', '54M', '201k',\n",
       "       '3.6M', '5.7M', '8.6M', '2.4M', '27M', '2.5M', '16M', '3.4M',\n",
       "       '8.9M', '3.9M', '2.9M', '38M', '32M', '5.4M', '18M', '1.1M',\n",
       "       '2.2M', '4.5M', '9.8M', '52M', '9.0M', '6.7M', '30M', '2.6M',\n",
       "       '7.1M', '3.7M', '22M', '7.4M', '6.4M', '3.2M', '8.2M', '9.9M',\n",
       "       '4.9M', '9.5M', '5.0M', '5.9M', '13M', '73M', '6.8M', '3.5M',\n",
       "       '4.0M', '2.3M', '7.2M', '2.1M', '42M', '7.3M', '9.1M', '55M',\n",
       "       '23k', '6.5M', '1.5M', '7.5M', '51M', '41M', '48M', '8.5M', '46M',\n",
       "       '8.3M', '4.3M', '4.7M', '3.3M', '40M', '7.8M', '8.8M', '6.6M',\n",
       "       '5.1M', '61M', '66M', '79k', '8.4M', '118k', '44M', '695k', '1.6M',\n",
       "       '6.2M', '18k', '53M', '1.4M', '3.0M', '5.8M', '3.8M', '9.6M',\n",
       "       '45M', '63M', '49M', '77M', '4.4M', '4.8M', '70M', '6.9M', '9.3M',\n",
       "       '10.0M', '8.1M', '36M', '84M', '97M', '2.0M', '1.9M', '1.8M',\n",
       "       '5.3M', '47M', '556k', '526k', '76M', '7.6M', '59M', '9.7M', '78M',\n",
       "       '72M', '43M', '7.7M', '6.3M', '334k', '34M', '93M', '65M', '79M',\n",
       "       '100M', '58M', '50M', '68M', '64M', '67M', '60M', '94M', '232k',\n",
       "       '99M', '624k', '95M', '8.5k', '41k', '292k', '11k', '80M', '1.7M',\n",
       "       '74M', '62M', '69M', '75M', '98M', '85M', '82M', '96M', '87M',\n",
       "       '71M', '86M', '91M', '81M', '92M', '83M', '88M', '704k', '862k',\n",
       "       '899k', '378k', '266k', '375k', '1.3M', '975k', '980k', '4.1M',\n",
       "       '89M', '696k', '544k', '525k', '920k', '779k', '853k', '720k',\n",
       "       '713k', '772k', '318k', '58k', '241k', '196k', '857k', '51k',\n",
       "       '953k', '865k', '251k', '930k', '540k', '313k', '746k', '203k',\n",
       "       '26k', '314k', '239k', '371k', '220k', '730k', '756k', '91k',\n",
       "       '293k', '17k', '74k', '14k', '317k', '78k', '924k', '902k', '818k',\n",
       "       '81k', '939k', '169k', '45k', '475k', '965k', '90M', '545k', '61k',\n",
       "       '283k', '655k', '714k', '93k', '872k', '121k', '322k', '1.0M',\n",
       "       '976k', '172k', '238k', '549k', '206k', '954k', '444k', '717k',\n",
       "       '210k', '609k', '308k', '705k', '306k', '904k', '473k', '175k',\n",
       "       '350k', '383k', '454k', '421k', '70k', '812k', '442k', '842k',\n",
       "       '417k', '412k', '459k', '478k', '335k', '782k', '721k', '430k',\n",
       "       '429k', '192k', '200k', '460k', '728k', '496k', '816k', '414k',\n",
       "       '506k', '887k', '613k', '243k', '569k', '778k', '683k', '592k',\n",
       "       '319k', '186k', '840k', '647k', '191k', '373k', '437k', '598k',\n",
       "       '716k', '585k', '982k', '222k', '219k', '55k', '948k', '323k',\n",
       "       '691k', '511k', '951k', '963k', '25k', '554k', '351k', '27k',\n",
       "       '82k', '208k', '913k', '514k', '551k', '29k', '103k', '898k',\n",
       "       '743k', '116k', '153k', '209k', '353k', '499k', '173k', '597k',\n",
       "       '809k', '122k', '411k', '400k', '801k', '787k', '237k', '50k',\n",
       "       '643k', '986k', '97k', '516k', '837k', '780k', '961k', '269k',\n",
       "       '20k', '498k', '600k', '749k', '642k', '881k', '72k', '656k',\n",
       "       '601k', '221k', '228k', '108k', '940k', '176k', '33k', '663k',\n",
       "       '34k', '942k', '259k', '164k', '458k', '245k', '629k', '28k',\n",
       "       '288k', '775k', '785k', '636k', '916k', '994k', '309k', '485k',\n",
       "       '914k', '903k', '608k', '500k', '54k', '562k', '847k', '957k',\n",
       "       '688k', '811k', '270k', '48k', '329k', '523k', '921k', '874k',\n",
       "       '981k', '784k', '280k', '24k', '518k', '754k', '892k', '154k',\n",
       "       '860k', '364k', '387k', '626k', '161k', '879k', '39k', '970k',\n",
       "       '170k', '141k', '160k', '144k', '143k', '190k', '376k', '193k',\n",
       "       '246k', '73k', '658k', '992k', '253k', '420k', '404k', '1,000+',\n",
       "       '470k', '226k', '240k', '89k', '234k', '257k', '861k', '467k',\n",
       "       '157k', '44k', '676k', '67k', '552k', '885k', '1020k', '582k',\n",
       "       '619k'], dtype=object)"
      ]
     },
     "execution_count": 11,
     "metadata": {},
     "output_type": "execute_result"
    }
   ],
   "source": [
    "df[\"Size\"].unique()"
   ]
  },
  {
   "cell_type": "code",
   "execution_count": 12,
   "id": "9b80a908-bfb7-4481-b7fa-40092096f720",
   "metadata": {},
   "outputs": [
    {
     "data": {
      "text/plain": [
       "Size\n",
       "Varies with device    1695\n",
       "Name: count, dtype: int64"
      ]
     },
     "execution_count": 12,
     "metadata": {},
     "output_type": "execute_result"
    }
   ],
   "source": [
    "df[\"Size\"][df[\"Size\"]==\"Varies with device\"].value_counts()"
   ]
  },
  {
   "cell_type": "code",
   "execution_count": 13,
   "id": "1d540039-322c-48a4-ad3f-270af7f5fc9f",
   "metadata": {},
   "outputs": [],
   "source": [
    "df[\"Size\"] = df[\"Size\"].replace(\"Varies with device\", \"0\")"
   ]
  },
  {
   "cell_type": "code",
   "execution_count": 14,
   "id": "f927ea80-fc6d-448f-b367-6e613bf4f0b7",
   "metadata": {},
   "outputs": [],
   "source": [
    "df = df[df[\"Size\"]!=\"1,000+\"]"
   ]
  },
  {
   "cell_type": "code",
   "execution_count": 15,
   "id": "96abce86-c282-4e47-a93d-e89b9d4ec9bc",
   "metadata": {},
   "outputs": [],
   "source": [
    "ls = []\n",
    "for i in df[\"Size\"]:\n",
    "    if i[-1] == \"M\":\n",
    "        ls.append(float(i.replace(\"M\", \"\"))*1024)\n",
    "    elif i[-1] == \"k\":\n",
    "        ls.append(float(i.replace(\"k\", \"\")))\n",
    "    else:\n",
    "        ls.append(float(i))"
   ]
  },
  {
   "cell_type": "code",
   "execution_count": 16,
   "id": "90df8ea8-cc35-4517-b92a-1977f34ac103",
   "metadata": {},
   "outputs": [
    {
     "data": {
      "text/plain": [
       "True"
      ]
     },
     "execution_count": 16,
     "metadata": {},
     "output_type": "execute_result"
    }
   ],
   "source": [
    "len(ls) == len(df)"
   ]
  },
  {
   "cell_type": "code",
   "execution_count": 17,
   "id": "157ca310-86e6-489f-a700-0753ba92eda2",
   "metadata": {
    "scrolled": true
   },
   "outputs": [],
   "source": [
    "df[\"Size\"] = np.array(ls)"
   ]
  },
  {
   "cell_type": "code",
   "execution_count": 18,
   "id": "889b2f55-9aad-45f6-a294-957cb0ae1323",
   "metadata": {},
   "outputs": [
    {
     "data": {
      "text/plain": [
       "dtype('float64')"
      ]
     },
     "execution_count": 18,
     "metadata": {},
     "output_type": "execute_result"
    }
   ],
   "source": [
    "df[\"Size\"].dtype"
   ]
  },
  {
   "cell_type": "code",
   "execution_count": 19,
   "id": "0223b069-7574-4ea9-9bdb-d96bb14718e1",
   "metadata": {},
   "outputs": [
    {
     "name": "stdout",
     "output_type": "stream",
     "text": [
      "<class 'pandas.core.frame.DataFrame'>\n",
      "Index: 10840 entries, 0 to 10840\n",
      "Data columns (total 13 columns):\n",
      " #   Column          Non-Null Count  Dtype  \n",
      "---  ------          --------------  -----  \n",
      " 0   App             10840 non-null  object \n",
      " 1   Category        10840 non-null  object \n",
      " 2   Rating          9366 non-null   float64\n",
      " 3   Reviews         10840 non-null  int64  \n",
      " 4   Size            10840 non-null  float64\n",
      " 5   Installs        10840 non-null  object \n",
      " 6   Type            10839 non-null  object \n",
      " 7   Price           10840 non-null  object \n",
      " 8   Content Rating  10840 non-null  object \n",
      " 9   Genres          10840 non-null  object \n",
      " 10  Last Updated    10840 non-null  object \n",
      " 11  Current Ver     10832 non-null  object \n",
      " 12  Android Ver     10838 non-null  object \n",
      "dtypes: float64(2), int64(1), object(10)\n",
      "memory usage: 1.2+ MB\n"
     ]
    }
   ],
   "source": [
    "df.info()"
   ]
  },
  {
   "cell_type": "code",
   "execution_count": 20,
   "id": "4c8c5d30-2c6f-485c-97c8-17aab2c37376",
   "metadata": {},
   "outputs": [],
   "source": [
    "df = df[df[\"Size\"]!=0]"
   ]
  },
  {
   "cell_type": "code",
   "execution_count": 21,
   "id": "ad26ae0b-c872-4abc-8a5c-73c068840592",
   "metadata": {},
   "outputs": [
    {
     "name": "stdout",
     "output_type": "stream",
     "text": [
      "<class 'pandas.core.frame.DataFrame'>\n",
      "Index: 9145 entries, 0 to 10840\n",
      "Data columns (total 13 columns):\n",
      " #   Column          Non-Null Count  Dtype  \n",
      "---  ------          --------------  -----  \n",
      " 0   App             9145 non-null   object \n",
      " 1   Category        9145 non-null   object \n",
      " 2   Rating          7729 non-null   float64\n",
      " 3   Reviews         9145 non-null   int64  \n",
      " 4   Size            9145 non-null   float64\n",
      " 5   Installs        9145 non-null   object \n",
      " 6   Type            9145 non-null   object \n",
      " 7   Price           9145 non-null   object \n",
      " 8   Content Rating  9145 non-null   object \n",
      " 9   Genres          9145 non-null   object \n",
      " 10  Last Updated    9145 non-null   object \n",
      " 11  Current Ver     9137 non-null   object \n",
      " 12  Android Ver     9143 non-null   object \n",
      "dtypes: float64(2), int64(1), object(10)\n",
      "memory usage: 1000.2+ KB\n"
     ]
    }
   ],
   "source": [
    "df.info()"
   ]
  },
  {
   "cell_type": "code",
   "execution_count": 22,
   "id": "244e076f-c499-49ef-b857-e4dbcffa24b9",
   "metadata": {},
   "outputs": [],
   "source": [
    "df.reset_index(drop=True, inplace=True)"
   ]
  },
  {
   "cell_type": "code",
   "execution_count": 23,
   "id": "2a9b884e-49c8-4a37-a9bc-5306cea8d10f",
   "metadata": {},
   "outputs": [
    {
     "data": {
      "text/plain": [
       "(50, 13)"
      ]
     },
     "execution_count": 23,
     "metadata": {},
     "output_type": "execute_result"
    }
   ],
   "source": [
    "df[df[\"Size\"]<100].shape"
   ]
  },
  {
   "cell_type": "code",
   "execution_count": 24,
   "id": "f55400f3-d7d7-412f-b5e1-08d436e3594d",
   "metadata": {},
   "outputs": [],
   "source": [
    "df = df[df[\"Size\"]>100]"
   ]
  },
  {
   "cell_type": "code",
   "execution_count": 25,
   "id": "aeea1a3a-b018-4d9f-ae79-78c06f0447a2",
   "metadata": {},
   "outputs": [
    {
     "data": {
      "text/plain": [
       "(9095, 13)"
      ]
     },
     "execution_count": 25,
     "metadata": {},
     "output_type": "execute_result"
    }
   ],
   "source": [
    "df.shape"
   ]
  },
  {
   "cell_type": "code",
   "execution_count": 26,
   "id": "905713f6-9a37-42b3-bcc9-c02f6965a841",
   "metadata": {
    "scrolled": true
   },
   "outputs": [
    {
     "data": {
      "text/html": [
       "<div>\n",
       "<style scoped>\n",
       "    .dataframe tbody tr th:only-of-type {\n",
       "        vertical-align: middle;\n",
       "    }\n",
       "\n",
       "    .dataframe tbody tr th {\n",
       "        vertical-align: top;\n",
       "    }\n",
       "\n",
       "    .dataframe thead th {\n",
       "        text-align: right;\n",
       "    }\n",
       "</style>\n",
       "<table border=\"1\" class=\"dataframe\">\n",
       "  <thead>\n",
       "    <tr style=\"text-align: right;\">\n",
       "      <th></th>\n",
       "      <th>App</th>\n",
       "      <th>Category</th>\n",
       "      <th>Rating</th>\n",
       "      <th>Reviews</th>\n",
       "      <th>Size</th>\n",
       "      <th>Installs</th>\n",
       "      <th>Type</th>\n",
       "      <th>Price</th>\n",
       "      <th>Content Rating</th>\n",
       "      <th>Genres</th>\n",
       "      <th>Last Updated</th>\n",
       "      <th>Current Ver</th>\n",
       "      <th>Android Ver</th>\n",
       "    </tr>\n",
       "  </thead>\n",
       "  <tbody>\n",
       "    <tr>\n",
       "      <th>0</th>\n",
       "      <td>Photo Editor &amp; Candy Camera &amp; Grid &amp; ScrapBook</td>\n",
       "      <td>ART_AND_DESIGN</td>\n",
       "      <td>4.1</td>\n",
       "      <td>159</td>\n",
       "      <td>19456.0</td>\n",
       "      <td>10,000+</td>\n",
       "      <td>Free</td>\n",
       "      <td>0</td>\n",
       "      <td>Everyone</td>\n",
       "      <td>Art &amp; Design</td>\n",
       "      <td>January 7, 2018</td>\n",
       "      <td>1.0.0</td>\n",
       "      <td>4.0.3 and up</td>\n",
       "    </tr>\n",
       "    <tr>\n",
       "      <th>1</th>\n",
       "      <td>Coloring book moana</td>\n",
       "      <td>ART_AND_DESIGN</td>\n",
       "      <td>3.9</td>\n",
       "      <td>967</td>\n",
       "      <td>14336.0</td>\n",
       "      <td>500,000+</td>\n",
       "      <td>Free</td>\n",
       "      <td>0</td>\n",
       "      <td>Everyone</td>\n",
       "      <td>Art &amp; Design;Pretend Play</td>\n",
       "      <td>January 15, 2018</td>\n",
       "      <td>2.0.0</td>\n",
       "      <td>4.0.3 and up</td>\n",
       "    </tr>\n",
       "    <tr>\n",
       "      <th>2</th>\n",
       "      <td>U Launcher Lite – FREE Live Cool Themes, Hide ...</td>\n",
       "      <td>ART_AND_DESIGN</td>\n",
       "      <td>4.7</td>\n",
       "      <td>87510</td>\n",
       "      <td>8908.8</td>\n",
       "      <td>5,000,000+</td>\n",
       "      <td>Free</td>\n",
       "      <td>0</td>\n",
       "      <td>Everyone</td>\n",
       "      <td>Art &amp; Design</td>\n",
       "      <td>August 1, 2018</td>\n",
       "      <td>1.2.4</td>\n",
       "      <td>4.0.3 and up</td>\n",
       "    </tr>\n",
       "    <tr>\n",
       "      <th>3</th>\n",
       "      <td>Sketch - Draw &amp; Paint</td>\n",
       "      <td>ART_AND_DESIGN</td>\n",
       "      <td>4.5</td>\n",
       "      <td>215644</td>\n",
       "      <td>25600.0</td>\n",
       "      <td>50,000,000+</td>\n",
       "      <td>Free</td>\n",
       "      <td>0</td>\n",
       "      <td>Teen</td>\n",
       "      <td>Art &amp; Design</td>\n",
       "      <td>June 8, 2018</td>\n",
       "      <td>Varies with device</td>\n",
       "      <td>4.2 and up</td>\n",
       "    </tr>\n",
       "    <tr>\n",
       "      <th>4</th>\n",
       "      <td>Pixel Draw - Number Art Coloring Book</td>\n",
       "      <td>ART_AND_DESIGN</td>\n",
       "      <td>4.3</td>\n",
       "      <td>967</td>\n",
       "      <td>2867.2</td>\n",
       "      <td>100,000+</td>\n",
       "      <td>Free</td>\n",
       "      <td>0</td>\n",
       "      <td>Everyone</td>\n",
       "      <td>Art &amp; Design;Creativity</td>\n",
       "      <td>June 20, 2018</td>\n",
       "      <td>1.1</td>\n",
       "      <td>4.4 and up</td>\n",
       "    </tr>\n",
       "  </tbody>\n",
       "</table>\n",
       "</div>"
      ],
      "text/plain": [
       "                                                 App        Category  Rating  \\\n",
       "0     Photo Editor & Candy Camera & Grid & ScrapBook  ART_AND_DESIGN     4.1   \n",
       "1                                Coloring book moana  ART_AND_DESIGN     3.9   \n",
       "2  U Launcher Lite – FREE Live Cool Themes, Hide ...  ART_AND_DESIGN     4.7   \n",
       "3                              Sketch - Draw & Paint  ART_AND_DESIGN     4.5   \n",
       "4              Pixel Draw - Number Art Coloring Book  ART_AND_DESIGN     4.3   \n",
       "\n",
       "   Reviews     Size     Installs  Type Price Content Rating  \\\n",
       "0      159  19456.0      10,000+  Free     0       Everyone   \n",
       "1      967  14336.0     500,000+  Free     0       Everyone   \n",
       "2    87510   8908.8   5,000,000+  Free     0       Everyone   \n",
       "3   215644  25600.0  50,000,000+  Free     0           Teen   \n",
       "4      967   2867.2     100,000+  Free     0       Everyone   \n",
       "\n",
       "                      Genres      Last Updated         Current Ver  \\\n",
       "0               Art & Design   January 7, 2018               1.0.0   \n",
       "1  Art & Design;Pretend Play  January 15, 2018               2.0.0   \n",
       "2               Art & Design    August 1, 2018               1.2.4   \n",
       "3               Art & Design      June 8, 2018  Varies with device   \n",
       "4    Art & Design;Creativity     June 20, 2018                 1.1   \n",
       "\n",
       "    Android Ver  \n",
       "0  4.0.3 and up  \n",
       "1  4.0.3 and up  \n",
       "2  4.0.3 and up  \n",
       "3    4.2 and up  \n",
       "4    4.4 and up  "
      ]
     },
     "execution_count": 26,
     "metadata": {},
     "output_type": "execute_result"
    }
   ],
   "source": [
    "df.head()"
   ]
  },
  {
   "cell_type": "code",
   "execution_count": 27,
   "id": "c6773db2-3df2-431b-9c10-65f0d6cf2bb3",
   "metadata": {},
   "outputs": [],
   "source": [
    "df[\"Installs\"] = df[\"Installs\"].str.replace(\"+\",\"\")\n",
    "df[\"Installs\"] = df[\"Installs\"].str.replace(\",\",\"\")"
   ]
  },
  {
   "cell_type": "code",
   "execution_count": 28,
   "id": "772083f6-1354-47f9-9fdd-fe99ad4d4aa4",
   "metadata": {
    "scrolled": true
   },
   "outputs": [
    {
     "data": {
      "text/html": [
       "<div>\n",
       "<style scoped>\n",
       "    .dataframe tbody tr th:only-of-type {\n",
       "        vertical-align: middle;\n",
       "    }\n",
       "\n",
       "    .dataframe tbody tr th {\n",
       "        vertical-align: top;\n",
       "    }\n",
       "\n",
       "    .dataframe thead th {\n",
       "        text-align: right;\n",
       "    }\n",
       "</style>\n",
       "<table border=\"1\" class=\"dataframe\">\n",
       "  <thead>\n",
       "    <tr style=\"text-align: right;\">\n",
       "      <th></th>\n",
       "      <th>App</th>\n",
       "      <th>Category</th>\n",
       "      <th>Rating</th>\n",
       "      <th>Reviews</th>\n",
       "      <th>Size</th>\n",
       "      <th>Installs</th>\n",
       "      <th>Type</th>\n",
       "      <th>Price</th>\n",
       "      <th>Content Rating</th>\n",
       "      <th>Genres</th>\n",
       "      <th>Last Updated</th>\n",
       "      <th>Current Ver</th>\n",
       "      <th>Android Ver</th>\n",
       "    </tr>\n",
       "  </thead>\n",
       "  <tbody>\n",
       "    <tr>\n",
       "      <th>0</th>\n",
       "      <td>Photo Editor &amp; Candy Camera &amp; Grid &amp; ScrapBook</td>\n",
       "      <td>ART_AND_DESIGN</td>\n",
       "      <td>4.1</td>\n",
       "      <td>159</td>\n",
       "      <td>19456.0</td>\n",
       "      <td>10000</td>\n",
       "      <td>Free</td>\n",
       "      <td>0</td>\n",
       "      <td>Everyone</td>\n",
       "      <td>Art &amp; Design</td>\n",
       "      <td>January 7, 2018</td>\n",
       "      <td>1.0.0</td>\n",
       "      <td>4.0.3 and up</td>\n",
       "    </tr>\n",
       "    <tr>\n",
       "      <th>1</th>\n",
       "      <td>Coloring book moana</td>\n",
       "      <td>ART_AND_DESIGN</td>\n",
       "      <td>3.9</td>\n",
       "      <td>967</td>\n",
       "      <td>14336.0</td>\n",
       "      <td>500000</td>\n",
       "      <td>Free</td>\n",
       "      <td>0</td>\n",
       "      <td>Everyone</td>\n",
       "      <td>Art &amp; Design;Pretend Play</td>\n",
       "      <td>January 15, 2018</td>\n",
       "      <td>2.0.0</td>\n",
       "      <td>4.0.3 and up</td>\n",
       "    </tr>\n",
       "    <tr>\n",
       "      <th>2</th>\n",
       "      <td>U Launcher Lite – FREE Live Cool Themes, Hide ...</td>\n",
       "      <td>ART_AND_DESIGN</td>\n",
       "      <td>4.7</td>\n",
       "      <td>87510</td>\n",
       "      <td>8908.8</td>\n",
       "      <td>5000000</td>\n",
       "      <td>Free</td>\n",
       "      <td>0</td>\n",
       "      <td>Everyone</td>\n",
       "      <td>Art &amp; Design</td>\n",
       "      <td>August 1, 2018</td>\n",
       "      <td>1.2.4</td>\n",
       "      <td>4.0.3 and up</td>\n",
       "    </tr>\n",
       "    <tr>\n",
       "      <th>3</th>\n",
       "      <td>Sketch - Draw &amp; Paint</td>\n",
       "      <td>ART_AND_DESIGN</td>\n",
       "      <td>4.5</td>\n",
       "      <td>215644</td>\n",
       "      <td>25600.0</td>\n",
       "      <td>50000000</td>\n",
       "      <td>Free</td>\n",
       "      <td>0</td>\n",
       "      <td>Teen</td>\n",
       "      <td>Art &amp; Design</td>\n",
       "      <td>June 8, 2018</td>\n",
       "      <td>Varies with device</td>\n",
       "      <td>4.2 and up</td>\n",
       "    </tr>\n",
       "    <tr>\n",
       "      <th>4</th>\n",
       "      <td>Pixel Draw - Number Art Coloring Book</td>\n",
       "      <td>ART_AND_DESIGN</td>\n",
       "      <td>4.3</td>\n",
       "      <td>967</td>\n",
       "      <td>2867.2</td>\n",
       "      <td>100000</td>\n",
       "      <td>Free</td>\n",
       "      <td>0</td>\n",
       "      <td>Everyone</td>\n",
       "      <td>Art &amp; Design;Creativity</td>\n",
       "      <td>June 20, 2018</td>\n",
       "      <td>1.1</td>\n",
       "      <td>4.4 and up</td>\n",
       "    </tr>\n",
       "  </tbody>\n",
       "</table>\n",
       "</div>"
      ],
      "text/plain": [
       "                                                 App        Category  Rating  \\\n",
       "0     Photo Editor & Candy Camera & Grid & ScrapBook  ART_AND_DESIGN     4.1   \n",
       "1                                Coloring book moana  ART_AND_DESIGN     3.9   \n",
       "2  U Launcher Lite – FREE Live Cool Themes, Hide ...  ART_AND_DESIGN     4.7   \n",
       "3                              Sketch - Draw & Paint  ART_AND_DESIGN     4.5   \n",
       "4              Pixel Draw - Number Art Coloring Book  ART_AND_DESIGN     4.3   \n",
       "\n",
       "   Reviews     Size  Installs  Type Price Content Rating  \\\n",
       "0      159  19456.0     10000  Free     0       Everyone   \n",
       "1      967  14336.0    500000  Free     0       Everyone   \n",
       "2    87510   8908.8   5000000  Free     0       Everyone   \n",
       "3   215644  25600.0  50000000  Free     0           Teen   \n",
       "4      967   2867.2    100000  Free     0       Everyone   \n",
       "\n",
       "                      Genres      Last Updated         Current Ver  \\\n",
       "0               Art & Design   January 7, 2018               1.0.0   \n",
       "1  Art & Design;Pretend Play  January 15, 2018               2.0.0   \n",
       "2               Art & Design    August 1, 2018               1.2.4   \n",
       "3               Art & Design      June 8, 2018  Varies with device   \n",
       "4    Art & Design;Creativity     June 20, 2018                 1.1   \n",
       "\n",
       "    Android Ver  \n",
       "0  4.0.3 and up  \n",
       "1  4.0.3 and up  \n",
       "2  4.0.3 and up  \n",
       "3    4.2 and up  \n",
       "4    4.4 and up  "
      ]
     },
     "execution_count": 28,
     "metadata": {},
     "output_type": "execute_result"
    }
   ],
   "source": [
    "df.head()"
   ]
  },
  {
   "cell_type": "code",
   "execution_count": 29,
   "id": "c74d29d3-612d-40ab-b90b-24d5bdf54487",
   "metadata": {},
   "outputs": [
    {
     "data": {
      "text/plain": [
       "Type\n",
       "Free    8388\n",
       "Paid     707\n",
       "Name: count, dtype: int64"
      ]
     },
     "execution_count": 29,
     "metadata": {},
     "output_type": "execute_result"
    }
   ],
   "source": [
    "df[\"Type\"].value_counts()"
   ]
  },
  {
   "cell_type": "code",
   "execution_count": 30,
   "id": "1871a240-8093-4d15-bc2f-7f35b6ae3f36",
   "metadata": {},
   "outputs": [
    {
     "data": {
      "text/plain": [
       "Price\n",
       "0         8388\n",
       "$0.99      141\n",
       "$2.99      112\n",
       "$1.99       65\n",
       "$4.99       61\n",
       "          ... \n",
       "$19.90       1\n",
       "$1.75        1\n",
       "$14.00       1\n",
       "$4.85        1\n",
       "$1.04        1\n",
       "Name: count, Length: 86, dtype: int64"
      ]
     },
     "execution_count": 30,
     "metadata": {},
     "output_type": "execute_result"
    }
   ],
   "source": [
    "df[\"Price\"].value_counts()"
   ]
  },
  {
   "cell_type": "code",
   "execution_count": 31,
   "id": "62727beb-b27a-4fc1-9559-cbaa079cc318",
   "metadata": {},
   "outputs": [
    {
     "data": {
      "text/plain": [
       "array(['0', '$4.99', '$6.99', '$1.49', '$3.99', '$7.99', '$5.99', '$2.99',\n",
       "       '$1.99', '$9.99', '$0.99', '$9.00', '$5.49', '$10.00', '$24.99',\n",
       "       '$11.99', '$79.99', '$16.99', '$14.99', '$1.00', '$29.99',\n",
       "       '$12.99', '$3.49', '$10.99', '$7.49', '$1.50', '$19.99', '$15.99',\n",
       "       '$33.99', '$74.99', '$39.99', '$2.49', '$4.49', '$1.70', '$2.00',\n",
       "       '$3.88', '$25.99', '$399.99', '$17.99', '$400.00', '$3.02',\n",
       "       '$1.76', '$4.84', '$4.77', '$1.61', '$1.59', '$6.49', '$5.00',\n",
       "       '$13.99', '$299.99', '$379.99', '$37.99', '$18.99', '$389.99',\n",
       "       '$19.90', '$8.49', '$1.75', '$14.00', '$4.85', '$46.99', '$109.99',\n",
       "       '$154.99', '$3.08', '$2.59', '$4.80', '$8.99', '$1.96', '$19.40',\n",
       "       '$15.46', '$3.04', '$4.29', '$2.60', '$3.28', '$4.60', '$28.99',\n",
       "       '$2.90', '$1.97', '$200.00', '$89.99', '$2.56', '$30.99', '$3.61',\n",
       "       '$394.99', '$1.26', '$1.20', '$1.04'], dtype=object)"
      ]
     },
     "execution_count": 31,
     "metadata": {},
     "output_type": "execute_result"
    }
   ],
   "source": [
    "df[\"Price\"].unique()"
   ]
  },
  {
   "cell_type": "code",
   "execution_count": 32,
   "id": "dabcc616-194c-41b5-911d-ac02bfbb0736",
   "metadata": {},
   "outputs": [],
   "source": [
    "df[\"Price\"] = df[\"Price\"].str.replace(\"$\",\"\")"
   ]
  },
  {
   "cell_type": "code",
   "execution_count": 33,
   "id": "10505661-96f8-47e3-82bf-3ec6d2772b02",
   "metadata": {},
   "outputs": [],
   "source": [
    "df[\"Price\"] = df[\"Price\"].astype(\"float\")"
   ]
  },
  {
   "cell_type": "code",
   "execution_count": 34,
   "id": "00186626-2ab6-4bdb-8f19-668e4a4eef86",
   "metadata": {},
   "outputs": [],
   "source": [
    "df[\"Installs\"] = df[\"Installs\"].astype(\"int64\")"
   ]
  },
  {
   "cell_type": "code",
   "execution_count": 35,
   "id": "987acbb8-e6cf-4b11-96f1-8fe8365231ae",
   "metadata": {},
   "outputs": [
    {
     "data": {
      "text/plain": [
       "Content Rating\n",
       "Everyone           7367\n",
       "Teen                987\n",
       "Mature 17+          406\n",
       "Everyone 10+        331\n",
       "Adults only 18+       2\n",
       "Unrated               2\n",
       "Name: count, dtype: int64"
      ]
     },
     "execution_count": 35,
     "metadata": {},
     "output_type": "execute_result"
    }
   ],
   "source": [
    "df[\"Content Rating\"].value_counts()"
   ]
  },
  {
   "cell_type": "code",
   "execution_count": 36,
   "id": "6e2ecf6c-95bd-48b8-8e89-f5993c0dba9e",
   "metadata": {
    "scrolled": true
   },
   "outputs": [
    {
     "data": {
      "text/plain": [
       "array(['Art & Design', 'Art & Design;Pretend Play',\n",
       "       'Art & Design;Creativity', 'Art & Design;Action & Adventure',\n",
       "       'Auto & Vehicles', 'Beauty', 'Books & Reference', 'Business',\n",
       "       'Comics', 'Comics;Creativity', 'Communication', 'Dating',\n",
       "       'Education', 'Education;Creativity', 'Education;Education',\n",
       "       'Education;Action & Adventure', 'Education;Pretend Play',\n",
       "       'Education;Brain Games', 'Entertainment',\n",
       "       'Entertainment;Brain Games', 'Entertainment;Music & Video',\n",
       "       'Events', 'Finance', 'Food & Drink', 'Health & Fitness',\n",
       "       'House & Home', 'Libraries & Demo', 'Lifestyle',\n",
       "       'Lifestyle;Pretend Play', 'Adventure;Action & Adventure', 'Arcade',\n",
       "       'Casual', 'Card', 'Casual;Pretend Play', 'Strategy', 'Action',\n",
       "       'Puzzle', 'Sports', 'Word', 'Racing', 'Casual;Creativity',\n",
       "       'Simulation', 'Adventure', 'Board', 'Trivia', 'Role Playing',\n",
       "       'Simulation;Education', 'Action;Action & Adventure',\n",
       "       'Casual;Brain Games', 'Simulation;Action & Adventure',\n",
       "       'Educational;Creativity', 'Puzzle;Brain Games',\n",
       "       'Educational;Education', 'Card;Brain Games',\n",
       "       'Educational;Brain Games', 'Educational;Pretend Play',\n",
       "       'Casual;Action & Adventure', 'Entertainment;Education',\n",
       "       'Casual;Education', 'Music;Music & Video', 'Arcade;Pretend Play',\n",
       "       'Simulation;Pretend Play', 'Puzzle;Creativity',\n",
       "       'Racing;Action & Adventure', 'Educational;Action & Adventure',\n",
       "       'Arcade;Action & Adventure', 'Entertainment;Action & Adventure',\n",
       "       'Puzzle;Action & Adventure', 'Role Playing;Action & Adventure',\n",
       "       'Strategy;Action & Adventure', 'Music & Audio;Music & Video',\n",
       "       'Health & Fitness;Education', 'Adventure;Education',\n",
       "       'Board;Brain Games', 'Board;Action & Adventure',\n",
       "       'Board;Pretend Play', 'Casual;Music & Video',\n",
       "       'Education;Music & Video', 'Role Playing;Pretend Play',\n",
       "       'Entertainment;Pretend Play', 'Video Players & Editors;Creativity',\n",
       "       'Card;Action & Adventure', 'Medical', 'Social', 'Shopping',\n",
       "       'Photography', 'Travel & Local',\n",
       "       'Travel & Local;Action & Adventure', 'Tools', 'Personalization',\n",
       "       'Productivity', 'Parenting', 'Parenting;Education',\n",
       "       'Parenting;Brain Games', 'Parenting;Music & Video', 'Weather',\n",
       "       'Video Players & Editors', 'News & Magazines', 'Maps & Navigation',\n",
       "       'Health & Fitness;Action & Adventure', 'Music', 'Educational',\n",
       "       'Casino', 'Adventure;Brain Games',\n",
       "       'Video Players & Editors;Music & Video', 'Trivia;Education',\n",
       "       'Entertainment;Creativity', 'Sports;Action & Adventure',\n",
       "       'Books & Reference;Creativity', 'Books & Reference;Education',\n",
       "       'Puzzle;Education', 'Role Playing;Education',\n",
       "       'Role Playing;Brain Games', 'Strategy;Education',\n",
       "       'Racing;Pretend Play', 'Strategy;Creativity'], dtype=object)"
      ]
     },
     "execution_count": 36,
     "metadata": {},
     "output_type": "execute_result"
    }
   ],
   "source": [
    "df[\"Genres\"].unique()"
   ]
  },
  {
   "cell_type": "code",
   "execution_count": 37,
   "id": "b6754c04-e5a6-45be-8ef1-5ef1abefeaad",
   "metadata": {},
   "outputs": [
    {
     "data": {
      "text/plain": [
       "Category\n",
       "FAMILY                 1830\n",
       "GAME                   1015\n",
       "TOOLS                   724\n",
       "MEDICAL                 433\n",
       "BUSINESS                396\n",
       "PERSONALIZATION         351\n",
       "LIFESTYLE               344\n",
       "SPORTS                  311\n",
       "FINANCE                 306\n",
       "PRODUCTIVITY            299\n",
       "HEALTH_AND_FITNESS      264\n",
       "COMMUNICATION           258\n",
       "PHOTOGRAPHY             253\n",
       "NEWS_AND_MAGAZINES      215\n",
       "DATING                  211\n",
       "SOCIAL                  210\n",
       "SHOPPING                199\n",
       "BOOKS_AND_REFERENCE     196\n",
       "TRAVEL_AND_LOCAL        191\n",
       "VIDEO_PLAYERS           130\n",
       "EDUCATION               111\n",
       "MAPS_AND_NAVIGATION     108\n",
       "FOOD_AND_DRINK          100\n",
       "ENTERTAINMENT            90\n",
       "LIBRARIES_AND_DEMO       79\n",
       "AUTO_AND_VEHICLES        75\n",
       "HOUSE_AND_HOME           68\n",
       "ART_AND_DESIGN           62\n",
       "EVENTS                   57\n",
       "WEATHER                  57\n",
       "PARENTING                54\n",
       "COMICS                   51\n",
       "BEAUTY                   47\n",
       "Name: count, dtype: int64"
      ]
     },
     "execution_count": 37,
     "metadata": {},
     "output_type": "execute_result"
    }
   ],
   "source": [
    "df[\"Category\"].value_counts()"
   ]
  },
  {
   "cell_type": "code",
   "execution_count": 38,
   "id": "1e2d0741-4859-48ae-bdae-b0c155ed5303",
   "metadata": {},
   "outputs": [
    {
     "data": {
      "text/plain": [
       "Last Updated\n",
       "March 23, 2014         1\n",
       "July 2, 2014           1\n",
       "November 22, 2013      1\n",
       "August 21, 2015        1\n",
       "June 27, 2012          1\n",
       "                    ... \n",
       "July 30, 2018        140\n",
       "August 1, 2018       185\n",
       "August 2, 2018       188\n",
       "July 31, 2018        204\n",
       "August 3, 2018       212\n",
       "Name: count, Length: 1333, dtype: int64"
      ]
     },
     "execution_count": 38,
     "metadata": {},
     "output_type": "execute_result"
    }
   ],
   "source": [
    "df[\"Last Updated\"].value_counts().sort_values()"
   ]
  },
  {
   "cell_type": "code",
   "execution_count": 39,
   "id": "6ded76b4-ea7f-4803-9801-b7a003fe0bb9",
   "metadata": {
    "scrolled": true
   },
   "outputs": [
    {
     "data": {
      "text/plain": [
       "Current Ver\n",
       "1.0          797\n",
       "1.1          258\n",
       "1.2          177\n",
       "2.0          150\n",
       "1.3          145\n",
       "            ... \n",
       "1.16.2         1\n",
       "0.81 beta      1\n",
       "5.4.4          1\n",
       "1.2.1.49       1\n",
       "2.0.148.0      1\n",
       "Name: count, Length: 2706, dtype: int64"
      ]
     },
     "execution_count": 39,
     "metadata": {},
     "output_type": "execute_result"
    }
   ],
   "source": [
    "df[\"Current Ver\"].value_counts()"
   ]
  },
  {
   "cell_type": "code",
   "execution_count": 40,
   "id": "78f4d237-05ee-4d3b-9756-ee76a547fd66",
   "metadata": {
    "scrolled": true
   },
   "outputs": [
    {
     "data": {
      "text/plain": [
       "Android Ver\n",
       "4.1 and up            2315\n",
       "4.0.3 and up          1450\n",
       "4.0 and up            1347\n",
       "4.4 and up             910\n",
       "2.3 and up             630\n",
       "5.0 and up             556\n",
       "4.2 and up             370\n",
       "2.3.3 and up           274\n",
       "3.0 and up             241\n",
       "2.2 and up             233\n",
       "4.3 and up             231\n",
       "2.1 and up             130\n",
       "1.6 and up             108\n",
       "6.0 and up              57\n",
       "Varies with device      55\n",
       "7.0 and up              39\n",
       "3.2 and up              36\n",
       "2.0 and up              28\n",
       "5.1 and up              23\n",
       "1.5 and up              14\n",
       "4.4W and up             12\n",
       "3.1 and up               9\n",
       "2.0.1 and up             7\n",
       "8.0 and up               6\n",
       "1.0 and up               2\n",
       "4.0.3 - 7.1.1            2\n",
       "5.0 - 8.0                2\n",
       "7.1 and up               1\n",
       "4.1 - 7.1.1              1\n",
       "5.0 - 6.0                1\n",
       "7.0 - 7.1.1              1\n",
       "2.2 - 7.1.1              1\n",
       "5.0 - 7.1.1              1\n",
       "Name: count, dtype: int64"
      ]
     },
     "execution_count": 40,
     "metadata": {},
     "output_type": "execute_result"
    }
   ],
   "source": [
    "df[\"Android Ver\"].value_counts()"
   ]
  },
  {
   "cell_type": "code",
   "execution_count": 41,
   "id": "af9a9df4-c12a-4ab4-a64d-485e231ba2a6",
   "metadata": {},
   "outputs": [
    {
     "name": "stdout",
     "output_type": "stream",
     "text": [
      "<class 'pandas.core.frame.DataFrame'>\n",
      "Index: 9095 entries, 0 to 9144\n",
      "Data columns (total 13 columns):\n",
      " #   Column          Non-Null Count  Dtype  \n",
      "---  ------          --------------  -----  \n",
      " 0   App             9095 non-null   object \n",
      " 1   Category        9095 non-null   object \n",
      " 2   Rating          7685 non-null   float64\n",
      " 3   Reviews         9095 non-null   int64  \n",
      " 4   Size            9095 non-null   float64\n",
      " 5   Installs        9095 non-null   int64  \n",
      " 6   Type            9095 non-null   object \n",
      " 7   Price           9095 non-null   float64\n",
      " 8   Content Rating  9095 non-null   object \n",
      " 9   Genres          9095 non-null   object \n",
      " 10  Last Updated    9095 non-null   object \n",
      " 11  Current Ver     9088 non-null   object \n",
      " 12  Android Ver     9093 non-null   object \n",
      "dtypes: float64(3), int64(2), object(8)\n",
      "memory usage: 994.8+ KB\n"
     ]
    }
   ],
   "source": [
    "df.info()"
   ]
  },
  {
   "cell_type": "code",
   "execution_count": 42,
   "id": "fdfab4e5-a185-4171-8d2e-fb2825e45d7f",
   "metadata": {
    "scrolled": true
   },
   "outputs": [],
   "source": [
    "# df[\"Last Updated\"].astype(\"datetime64\")"
   ]
  },
  {
   "cell_type": "code",
   "execution_count": 43,
   "id": "fded061e-30ef-4f1a-be0e-0a2dbb25582a",
   "metadata": {},
   "outputs": [
    {
     "data": {
      "text/html": [
       "<div>\n",
       "<style scoped>\n",
       "    .dataframe tbody tr th:only-of-type {\n",
       "        vertical-align: middle;\n",
       "    }\n",
       "\n",
       "    .dataframe tbody tr th {\n",
       "        vertical-align: top;\n",
       "    }\n",
       "\n",
       "    .dataframe thead th {\n",
       "        text-align: right;\n",
       "    }\n",
       "</style>\n",
       "<table border=\"1\" class=\"dataframe\">\n",
       "  <thead>\n",
       "    <tr style=\"text-align: right;\">\n",
       "      <th></th>\n",
       "      <th>Rating</th>\n",
       "      <th>Reviews</th>\n",
       "      <th>Size</th>\n",
       "      <th>Installs</th>\n",
       "      <th>Price</th>\n",
       "    </tr>\n",
       "  </thead>\n",
       "  <tbody>\n",
       "    <tr>\n",
       "      <th>count</th>\n",
       "      <td>7685.000000</td>\n",
       "      <td>9.095000e+03</td>\n",
       "      <td>9095.000000</td>\n",
       "      <td>9.095000e+03</td>\n",
       "      <td>9095.000000</td>\n",
       "    </tr>\n",
       "    <tr>\n",
       "      <th>mean</th>\n",
       "      <td>4.174652</td>\n",
       "      <td>2.503741e+05</td>\n",
       "      <td>22153.407301</td>\n",
       "      <td>7.150647e+06</td>\n",
       "      <td>1.185639</td>\n",
       "    </tr>\n",
       "    <tr>\n",
       "      <th>std</th>\n",
       "      <td>0.545139</td>\n",
       "      <td>1.720828e+06</td>\n",
       "      <td>23137.060501</td>\n",
       "      <td>4.631760e+07</td>\n",
       "      <td>17.402973</td>\n",
       "    </tr>\n",
       "    <tr>\n",
       "      <th>min</th>\n",
       "      <td>1.000000</td>\n",
       "      <td>0.000000e+00</td>\n",
       "      <td>103.000000</td>\n",
       "      <td>0.000000e+00</td>\n",
       "      <td>0.000000</td>\n",
       "    </tr>\n",
       "    <tr>\n",
       "      <th>25%</th>\n",
       "      <td>4.000000</td>\n",
       "      <td>2.200000e+01</td>\n",
       "      <td>5120.000000</td>\n",
       "      <td>1.000000e+03</td>\n",
       "      <td>0.000000</td>\n",
       "    </tr>\n",
       "    <tr>\n",
       "      <th>50%</th>\n",
       "      <td>4.300000</td>\n",
       "      <td>7.570000e+02</td>\n",
       "      <td>13312.000000</td>\n",
       "      <td>1.000000e+05</td>\n",
       "      <td>0.000000</td>\n",
       "    </tr>\n",
       "    <tr>\n",
       "      <th>75%</th>\n",
       "      <td>4.500000</td>\n",
       "      <td>2.543250e+04</td>\n",
       "      <td>30720.000000</td>\n",
       "      <td>1.000000e+06</td>\n",
       "      <td>0.000000</td>\n",
       "    </tr>\n",
       "    <tr>\n",
       "      <th>max</th>\n",
       "      <td>5.000000</td>\n",
       "      <td>4.489389e+07</td>\n",
       "      <td>102400.000000</td>\n",
       "      <td>1.000000e+09</td>\n",
       "      <td>400.000000</td>\n",
       "    </tr>\n",
       "  </tbody>\n",
       "</table>\n",
       "</div>"
      ],
      "text/plain": [
       "            Rating       Reviews           Size      Installs        Price\n",
       "count  7685.000000  9.095000e+03    9095.000000  9.095000e+03  9095.000000\n",
       "mean      4.174652  2.503741e+05   22153.407301  7.150647e+06     1.185639\n",
       "std       0.545139  1.720828e+06   23137.060501  4.631760e+07    17.402973\n",
       "min       1.000000  0.000000e+00     103.000000  0.000000e+00     0.000000\n",
       "25%       4.000000  2.200000e+01    5120.000000  1.000000e+03     0.000000\n",
       "50%       4.300000  7.570000e+02   13312.000000  1.000000e+05     0.000000\n",
       "75%       4.500000  2.543250e+04   30720.000000  1.000000e+06     0.000000\n",
       "max       5.000000  4.489389e+07  102400.000000  1.000000e+09   400.000000"
      ]
     },
     "execution_count": 43,
     "metadata": {},
     "output_type": "execute_result"
    }
   ],
   "source": [
    "df.describe()"
   ]
  },
  {
   "cell_type": "code",
   "execution_count": 44,
   "id": "15649730-c9a6-4cd1-8b1e-8c91c7267f55",
   "metadata": {},
   "outputs": [
    {
     "data": {
      "text/html": [
       "<div>\n",
       "<style scoped>\n",
       "    .dataframe tbody tr th:only-of-type {\n",
       "        vertical-align: middle;\n",
       "    }\n",
       "\n",
       "    .dataframe tbody tr th {\n",
       "        vertical-align: top;\n",
       "    }\n",
       "\n",
       "    .dataframe thead th {\n",
       "        text-align: right;\n",
       "    }\n",
       "</style>\n",
       "<table border=\"1\" class=\"dataframe\">\n",
       "  <thead>\n",
       "    <tr style=\"text-align: right;\">\n",
       "      <th></th>\n",
       "      <th>Installs</th>\n",
       "      <th>Rating</th>\n",
       "      <th>Reviews</th>\n",
       "    </tr>\n",
       "  </thead>\n",
       "  <tbody>\n",
       "    <tr>\n",
       "      <th>3305</th>\n",
       "      <td>0</td>\n",
       "      <td>NaN</td>\n",
       "      <td>0</td>\n",
       "    </tr>\n",
       "    <tr>\n",
       "      <th>4052</th>\n",
       "      <td>0</td>\n",
       "      <td>NaN</td>\n",
       "      <td>0</td>\n",
       "    </tr>\n",
       "    <tr>\n",
       "      <th>4213</th>\n",
       "      <td>0</td>\n",
       "      <td>NaN</td>\n",
       "      <td>0</td>\n",
       "    </tr>\n",
       "    <tr>\n",
       "      <th>4611</th>\n",
       "      <td>0</td>\n",
       "      <td>NaN</td>\n",
       "      <td>0</td>\n",
       "    </tr>\n",
       "    <tr>\n",
       "      <th>5296</th>\n",
       "      <td>0</td>\n",
       "      <td>NaN</td>\n",
       "      <td>0</td>\n",
       "    </tr>\n",
       "    <tr>\n",
       "      <th>5990</th>\n",
       "      <td>0</td>\n",
       "      <td>NaN</td>\n",
       "      <td>0</td>\n",
       "    </tr>\n",
       "    <tr>\n",
       "      <th>6603</th>\n",
       "      <td>0</td>\n",
       "      <td>NaN</td>\n",
       "      <td>0</td>\n",
       "    </tr>\n",
       "    <tr>\n",
       "      <th>7089</th>\n",
       "      <td>0</td>\n",
       "      <td>NaN</td>\n",
       "      <td>0</td>\n",
       "    </tr>\n",
       "    <tr>\n",
       "      <th>7324</th>\n",
       "      <td>0</td>\n",
       "      <td>NaN</td>\n",
       "      <td>0</td>\n",
       "    </tr>\n",
       "    <tr>\n",
       "      <th>7760</th>\n",
       "      <td>0</td>\n",
       "      <td>NaN</td>\n",
       "      <td>0</td>\n",
       "    </tr>\n",
       "    <tr>\n",
       "      <th>8105</th>\n",
       "      <td>0</td>\n",
       "      <td>NaN</td>\n",
       "      <td>0</td>\n",
       "    </tr>\n",
       "    <tr>\n",
       "      <th>8268</th>\n",
       "      <td>0</td>\n",
       "      <td>NaN</td>\n",
       "      <td>0</td>\n",
       "    </tr>\n",
       "    <tr>\n",
       "      <th>8280</th>\n",
       "      <td>0</td>\n",
       "      <td>NaN</td>\n",
       "      <td>0</td>\n",
       "    </tr>\n",
       "    <tr>\n",
       "      <th>8296</th>\n",
       "      <td>0</td>\n",
       "      <td>NaN</td>\n",
       "      <td>0</td>\n",
       "    </tr>\n",
       "  </tbody>\n",
       "</table>\n",
       "</div>"
      ],
      "text/plain": [
       "      Installs  Rating  Reviews\n",
       "3305         0     NaN        0\n",
       "4052         0     NaN        0\n",
       "4213         0     NaN        0\n",
       "4611         0     NaN        0\n",
       "5296         0     NaN        0\n",
       "5990         0     NaN        0\n",
       "6603         0     NaN        0\n",
       "7089         0     NaN        0\n",
       "7324         0     NaN        0\n",
       "7760         0     NaN        0\n",
       "8105         0     NaN        0\n",
       "8268         0     NaN        0\n",
       "8280         0     NaN        0\n",
       "8296         0     NaN        0"
      ]
     },
     "execution_count": 44,
     "metadata": {},
     "output_type": "execute_result"
    }
   ],
   "source": [
    "df[[\"Installs\", \"Rating\", \"Reviews\"]][df[\"Installs\"]==0]"
   ]
  },
  {
   "cell_type": "code",
   "execution_count": 45,
   "id": "cdb06717-7e8a-4dbd-b53a-90d26f437939",
   "metadata": {},
   "outputs": [
    {
     "data": {
      "text/plain": [
       "1410"
      ]
     },
     "execution_count": 45,
     "metadata": {},
     "output_type": "execute_result"
    }
   ],
   "source": [
    "df[\"Rating\"].isna().sum()"
   ]
  },
  {
   "cell_type": "code",
   "execution_count": 46,
   "id": "d7f04a38-3f7f-4df3-a031-6ef143352629",
   "metadata": {},
   "outputs": [],
   "source": [
    "df[\"Rating\"]=df[\"Rating\"].fillna(0)"
   ]
  },
  {
   "cell_type": "code",
   "execution_count": 47,
   "id": "9ad51434-1798-4bb3-9a0a-66a7002bf4ff",
   "metadata": {},
   "outputs": [
    {
     "data": {
      "text/html": [
       "<div>\n",
       "<style scoped>\n",
       "    .dataframe tbody tr th:only-of-type {\n",
       "        vertical-align: middle;\n",
       "    }\n",
       "\n",
       "    .dataframe tbody tr th {\n",
       "        vertical-align: top;\n",
       "    }\n",
       "\n",
       "    .dataframe thead th {\n",
       "        text-align: right;\n",
       "    }\n",
       "</style>\n",
       "<table border=\"1\" class=\"dataframe\">\n",
       "  <thead>\n",
       "    <tr style=\"text-align: right;\">\n",
       "      <th></th>\n",
       "      <th>Installs</th>\n",
       "      <th>Rating</th>\n",
       "      <th>Reviews</th>\n",
       "    </tr>\n",
       "  </thead>\n",
       "  <tbody>\n",
       "    <tr>\n",
       "      <th>3305</th>\n",
       "      <td>0</td>\n",
       "      <td>0.0</td>\n",
       "      <td>0</td>\n",
       "    </tr>\n",
       "    <tr>\n",
       "      <th>4052</th>\n",
       "      <td>0</td>\n",
       "      <td>0.0</td>\n",
       "      <td>0</td>\n",
       "    </tr>\n",
       "    <tr>\n",
       "      <th>4213</th>\n",
       "      <td>0</td>\n",
       "      <td>0.0</td>\n",
       "      <td>0</td>\n",
       "    </tr>\n",
       "    <tr>\n",
       "      <th>4611</th>\n",
       "      <td>0</td>\n",
       "      <td>0.0</td>\n",
       "      <td>0</td>\n",
       "    </tr>\n",
       "    <tr>\n",
       "      <th>5296</th>\n",
       "      <td>0</td>\n",
       "      <td>0.0</td>\n",
       "      <td>0</td>\n",
       "    </tr>\n",
       "    <tr>\n",
       "      <th>5990</th>\n",
       "      <td>0</td>\n",
       "      <td>0.0</td>\n",
       "      <td>0</td>\n",
       "    </tr>\n",
       "    <tr>\n",
       "      <th>6603</th>\n",
       "      <td>0</td>\n",
       "      <td>0.0</td>\n",
       "      <td>0</td>\n",
       "    </tr>\n",
       "    <tr>\n",
       "      <th>7089</th>\n",
       "      <td>0</td>\n",
       "      <td>0.0</td>\n",
       "      <td>0</td>\n",
       "    </tr>\n",
       "    <tr>\n",
       "      <th>7324</th>\n",
       "      <td>0</td>\n",
       "      <td>0.0</td>\n",
       "      <td>0</td>\n",
       "    </tr>\n",
       "    <tr>\n",
       "      <th>7760</th>\n",
       "      <td>0</td>\n",
       "      <td>0.0</td>\n",
       "      <td>0</td>\n",
       "    </tr>\n",
       "    <tr>\n",
       "      <th>8105</th>\n",
       "      <td>0</td>\n",
       "      <td>0.0</td>\n",
       "      <td>0</td>\n",
       "    </tr>\n",
       "    <tr>\n",
       "      <th>8268</th>\n",
       "      <td>0</td>\n",
       "      <td>0.0</td>\n",
       "      <td>0</td>\n",
       "    </tr>\n",
       "    <tr>\n",
       "      <th>8280</th>\n",
       "      <td>0</td>\n",
       "      <td>0.0</td>\n",
       "      <td>0</td>\n",
       "    </tr>\n",
       "    <tr>\n",
       "      <th>8296</th>\n",
       "      <td>0</td>\n",
       "      <td>0.0</td>\n",
       "      <td>0</td>\n",
       "    </tr>\n",
       "  </tbody>\n",
       "</table>\n",
       "</div>"
      ],
      "text/plain": [
       "      Installs  Rating  Reviews\n",
       "3305         0     0.0        0\n",
       "4052         0     0.0        0\n",
       "4213         0     0.0        0\n",
       "4611         0     0.0        0\n",
       "5296         0     0.0        0\n",
       "5990         0     0.0        0\n",
       "6603         0     0.0        0\n",
       "7089         0     0.0        0\n",
       "7324         0     0.0        0\n",
       "7760         0     0.0        0\n",
       "8105         0     0.0        0\n",
       "8268         0     0.0        0\n",
       "8280         0     0.0        0\n",
       "8296         0     0.0        0"
      ]
     },
     "execution_count": 47,
     "metadata": {},
     "output_type": "execute_result"
    }
   ],
   "source": [
    "df[[\"Installs\", \"Rating\", \"Reviews\"]][df[\"Installs\"]==0]"
   ]
  },
  {
   "cell_type": "code",
   "execution_count": 48,
   "id": "aea3f61c-2f02-4f83-b0ec-f4f1a74c6835",
   "metadata": {},
   "outputs": [
    {
     "data": {
      "text/html": [
       "<div>\n",
       "<style scoped>\n",
       "    .dataframe tbody tr th:only-of-type {\n",
       "        vertical-align: middle;\n",
       "    }\n",
       "\n",
       "    .dataframe tbody tr th {\n",
       "        vertical-align: top;\n",
       "    }\n",
       "\n",
       "    .dataframe thead th {\n",
       "        text-align: right;\n",
       "    }\n",
       "</style>\n",
       "<table border=\"1\" class=\"dataframe\">\n",
       "  <thead>\n",
       "    <tr style=\"text-align: right;\">\n",
       "      <th></th>\n",
       "      <th>Rating</th>\n",
       "      <th>Reviews</th>\n",
       "      <th>Size</th>\n",
       "      <th>Installs</th>\n",
       "      <th>Price</th>\n",
       "    </tr>\n",
       "  </thead>\n",
       "  <tbody>\n",
       "    <tr>\n",
       "      <th>count</th>\n",
       "      <td>9095.000000</td>\n",
       "      <td>9.095000e+03</td>\n",
       "      <td>9095.000000</td>\n",
       "      <td>9.095000e+03</td>\n",
       "      <td>9095.000000</td>\n",
       "    </tr>\n",
       "    <tr>\n",
       "      <th>mean</th>\n",
       "      <td>3.527455</td>\n",
       "      <td>2.503741e+05</td>\n",
       "      <td>22153.407301</td>\n",
       "      <td>7.150647e+06</td>\n",
       "      <td>1.185639</td>\n",
       "    </tr>\n",
       "    <tr>\n",
       "      <th>std</th>\n",
       "      <td>1.591952</td>\n",
       "      <td>1.720828e+06</td>\n",
       "      <td>23137.060501</td>\n",
       "      <td>4.631760e+07</td>\n",
       "      <td>17.402973</td>\n",
       "    </tr>\n",
       "    <tr>\n",
       "      <th>min</th>\n",
       "      <td>0.000000</td>\n",
       "      <td>0.000000e+00</td>\n",
       "      <td>103.000000</td>\n",
       "      <td>0.000000e+00</td>\n",
       "      <td>0.000000</td>\n",
       "    </tr>\n",
       "    <tr>\n",
       "      <th>25%</th>\n",
       "      <td>3.600000</td>\n",
       "      <td>2.200000e+01</td>\n",
       "      <td>5120.000000</td>\n",
       "      <td>1.000000e+03</td>\n",
       "      <td>0.000000</td>\n",
       "    </tr>\n",
       "    <tr>\n",
       "      <th>50%</th>\n",
       "      <td>4.200000</td>\n",
       "      <td>7.570000e+02</td>\n",
       "      <td>13312.000000</td>\n",
       "      <td>1.000000e+05</td>\n",
       "      <td>0.000000</td>\n",
       "    </tr>\n",
       "    <tr>\n",
       "      <th>75%</th>\n",
       "      <td>4.500000</td>\n",
       "      <td>2.543250e+04</td>\n",
       "      <td>30720.000000</td>\n",
       "      <td>1.000000e+06</td>\n",
       "      <td>0.000000</td>\n",
       "    </tr>\n",
       "    <tr>\n",
       "      <th>max</th>\n",
       "      <td>5.000000</td>\n",
       "      <td>4.489389e+07</td>\n",
       "      <td>102400.000000</td>\n",
       "      <td>1.000000e+09</td>\n",
       "      <td>400.000000</td>\n",
       "    </tr>\n",
       "  </tbody>\n",
       "</table>\n",
       "</div>"
      ],
      "text/plain": [
       "            Rating       Reviews           Size      Installs        Price\n",
       "count  9095.000000  9.095000e+03    9095.000000  9.095000e+03  9095.000000\n",
       "mean      3.527455  2.503741e+05   22153.407301  7.150647e+06     1.185639\n",
       "std       1.591952  1.720828e+06   23137.060501  4.631760e+07    17.402973\n",
       "min       0.000000  0.000000e+00     103.000000  0.000000e+00     0.000000\n",
       "25%       3.600000  2.200000e+01    5120.000000  1.000000e+03     0.000000\n",
       "50%       4.200000  7.570000e+02   13312.000000  1.000000e+05     0.000000\n",
       "75%       4.500000  2.543250e+04   30720.000000  1.000000e+06     0.000000\n",
       "max       5.000000  4.489389e+07  102400.000000  1.000000e+09   400.000000"
      ]
     },
     "execution_count": 48,
     "metadata": {},
     "output_type": "execute_result"
    }
   ],
   "source": [
    "df.describe()"
   ]
  },
  {
   "cell_type": "code",
   "execution_count": 49,
   "id": "e9ce10c5-edf7-4c62-97be-84fc92bae1ba",
   "metadata": {},
   "outputs": [
    {
     "data": {
      "image/png": "[encoded data removed]",
      "text/plain": [
       "<Figure size 640x480 with 1 Axes>"
      ]
     },
     "metadata": {},
     "output_type": "display_data"
    }
   ],
   "source": [
    "plt.scatter(df[\"Installs\"], df[\"Rating\"])\n",
    "plt.show()"
   ]
  },
  {
   "cell_type": "code",
   "execution_count": 50,
   "id": "cff1d85c-b26e-4475-ad9a-3ecc0051fe5d",
   "metadata": {},
   "outputs": [
    {
     "data": {
      "text/plain": [
       "<Axes: >"
      ]
     },
     "execution_count": 50,
     "metadata": {},
     "output_type": "execute_result"
    },
    {
     "data": {
      "image/png": "[encoded data removed]",
      "text/plain": [
       "<Figure size 640x480 with 1 Axes>"
      ]
     },
     "metadata": {},
     "output_type": "display_data"
    }
   ],
   "source": [
    "df[\"Installs\"].plot.box()"
   ]
  },
  {
   "cell_type": "code",
   "execution_count": 51,
   "id": "ebb9ff12-aefb-4f6f-bd49-931d651be3ca",
   "metadata": {},
   "outputs": [
    {
     "data": {
      "text/plain": [
       "0.80      1000000.0\n",
       "0.90     10000000.0\n",
       "0.92     10000000.0\n",
       "0.95     10000000.0\n",
       "0.97     50000000.0\n",
       "0.99    100000000.0\n",
       "Name: Installs, dtype: float64"
      ]
     },
     "execution_count": 51,
     "metadata": {},
     "output_type": "execute_result"
    }
   ],
   "source": [
    "df[\"Installs\"].quantile([0.8, 0.9, 0.92, 0.95, 0.97, 0.99])"
   ]
  },
  {
   "cell_type": "code",
   "execution_count": 52,
   "id": "bf9691b8-25a6-41c3-b906-d7cbdaed1502",
   "metadata": {},
   "outputs": [
    {
     "data": {
      "text/plain": [
       "<Axes: >"
      ]
     },
     "execution_count": 52,
     "metadata": {},
     "output_type": "execute_result"
    },
    {
     "data": {
      "image/png": "[encoded data removed]",
      "text/plain": [
       "<Figure size 640x480 with 1 Axes>"
      ]
     },
     "metadata": {},
     "output_type": "display_data"
    }
   ],
   "source": [
    "df[\"Installs\"][df[\"Installs\"]<df[\"Installs\"].quantile(0.90)].plot.box()"
   ]
  },
  {
   "cell_type": "code",
   "execution_count": 53,
   "id": "db62847d-049e-4a97-921e-ab4aed5f73c8",
   "metadata": {},
   "outputs": [],
   "source": [
    "df = df[df[\"Installs\"]<df[\"Installs\"].quantile(0.90)]"
   ]
  },
  {
   "cell_type": "code",
   "execution_count": 54,
   "id": "ab5933c5-0b37-4c56-9de8-1148313620d0",
   "metadata": {},
   "outputs": [
    {
     "data": {
      "text/plain": [
       "(7884, 13)"
      ]
     },
     "execution_count": 54,
     "metadata": {},
     "output_type": "execute_result"
    }
   ],
   "source": [
    "df.shape"
   ]
  },
  {
   "cell_type": "code",
   "execution_count": 55,
   "id": "03cf6626-bbac-4b72-851f-6711f33e2bd2",
   "metadata": {},
   "outputs": [
    {
     "data": {
      "image/png": "[encoded data removed]",
      "text/plain": [
       "<Figure size 640x480 with 1 Axes>"
      ]
     },
     "metadata": {},
     "output_type": "display_data"
    }
   ],
   "source": [
    "plt.scatter(df[\"Installs\"], df[\"Size\"])\n",
    "plt.show()"
   ]
  },
  {
   "cell_type": "code",
   "execution_count": 56,
   "id": "633d2e09-e377-44f6-aa24-a996b5023afa",
   "metadata": {},
   "outputs": [
    {
     "data": {
      "image/png": "[encoded data removed]",
      "text/plain": [
       "<Figure size 640x480 with 1 Axes>"
      ]
     },
     "metadata": {},
     "output_type": "display_data"
    }
   ],
   "source": [
    "df[\"Size\"].plot.hist(bins=50)\n",
    "plt.show()"
   ]
  },
  {
   "cell_type": "code",
   "execution_count": 57,
   "id": "a6c14b73-d7c3-400b-bf63-b8be3134c9ea",
   "metadata": {},
   "outputs": [
    {
     "data": {
      "image/png": "[encoded data removed]",
      "text/plain": [
       "<Figure size 640x480 with 1 Axes>"
      ]
     },
     "metadata": {},
     "output_type": "display_data"
    }
   ],
   "source": [
    "df[\"Installs\"].plot.hist(bins=50)\n",
    "plt.show()"
   ]
  },
  {
   "cell_type": "code",
   "execution_count": 58,
   "id": "2a32121d-ff60-49ab-a6a8-4adb1a77718c",
   "metadata": {},
   "outputs": [
    {
     "data": {
      "image/png": "[encoded data removed]",
      "text/plain": [
       "<Figure size 640x480 with 1 Axes>"
      ]
     },
     "metadata": {},
     "output_type": "display_data"
    }
   ],
   "source": [
    "df[\"Reviews\"].plot.hist(bins= 40)\n",
    "plt.show()"
   ]
  },
  {
   "cell_type": "code",
   "execution_count": 59,
   "id": "c700309d-e57e-4d93-a608-e14f4f54aad9",
   "metadata": {},
   "outputs": [
    {
     "name": "stdout",
     "output_type": "stream",
     "text": [
      "<class 'pandas.core.frame.DataFrame'>\n",
      "Index: 7884 entries, 0 to 9143\n",
      "Data columns (total 13 columns):\n",
      " #   Column          Non-Null Count  Dtype  \n",
      "---  ------          --------------  -----  \n",
      " 0   App             7884 non-null   object \n",
      " 1   Category        7884 non-null   object \n",
      " 2   Rating          7884 non-null   float64\n",
      " 3   Reviews         7884 non-null   int64  \n",
      " 4   Size            7884 non-null   float64\n",
      " 5   Installs        7884 non-null   int64  \n",
      " 6   Type            7884 non-null   object \n",
      " 7   Price           7884 non-null   float64\n",
      " 8   Content Rating  7884 non-null   object \n",
      " 9   Genres          7884 non-null   object \n",
      " 10  Last Updated    7884 non-null   object \n",
      " 11  Current Ver     7877 non-null   object \n",
      " 12  Android Ver     7882 non-null   object \n",
      "dtypes: float64(3), int64(2), object(8)\n",
      "memory usage: 862.3+ KB\n"
     ]
    }
   ],
   "source": [
    "df.info()"
   ]
  },
  {
   "cell_type": "code",
   "execution_count": 60,
   "id": "fa9bb88b-01e1-4b46-917f-879f01fe6a1f",
   "metadata": {},
   "outputs": [
    {
     "data": {
      "text/html": [
       "<div>\n",
       "<style scoped>\n",
       "    .dataframe tbody tr th:only-of-type {\n",
       "        vertical-align: middle;\n",
       "    }\n",
       "\n",
       "    .dataframe tbody tr th {\n",
       "        vertical-align: top;\n",
       "    }\n",
       "\n",
       "    .dataframe thead th {\n",
       "        text-align: right;\n",
       "    }\n",
       "</style>\n",
       "<table border=\"1\" class=\"dataframe\">\n",
       "  <thead>\n",
       "    <tr style=\"text-align: right;\">\n",
       "      <th></th>\n",
       "      <th>App</th>\n",
       "      <th>Rating</th>\n",
       "      <th>Installs</th>\n",
       "    </tr>\n",
       "  </thead>\n",
       "  <tbody>\n",
       "    <tr>\n",
       "      <th>8907</th>\n",
       "      <td>Lottery Ticket Checker - Florida Results &amp; Lotto</td>\n",
       "      <td>1.0</td>\n",
       "      <td>500</td>\n",
       "    </tr>\n",
       "    <tr>\n",
       "      <th>7275</th>\n",
       "      <td>DS Creator 2.0</td>\n",
       "      <td>1.0</td>\n",
       "      <td>500</td>\n",
       "    </tr>\n",
       "    <tr>\n",
       "      <th>3901</th>\n",
       "      <td>Clarksburg AH</td>\n",
       "      <td>1.0</td>\n",
       "      <td>50</td>\n",
       "    </tr>\n",
       "    <tr>\n",
       "      <th>6343</th>\n",
       "      <td>CR Magazine</td>\n",
       "      <td>1.0</td>\n",
       "      <td>100</td>\n",
       "    </tr>\n",
       "    <tr>\n",
       "      <th>8651</th>\n",
       "      <td>FE Mechanical Engineering Prep</td>\n",
       "      <td>1.0</td>\n",
       "      <td>1000</td>\n",
       "    </tr>\n",
       "  </tbody>\n",
       "</table>\n",
       "</div>"
      ],
      "text/plain": [
       "                                                   App  Rating  Installs\n",
       "8907  Lottery Ticket Checker - Florida Results & Lotto     1.0       500\n",
       "7275                                    DS Creator 2.0     1.0       500\n",
       "3901                                     Clarksburg AH     1.0        50\n",
       "6343                                       CR Magazine     1.0       100\n",
       "8651                    FE Mechanical Engineering Prep     1.0      1000"
      ]
     },
     "execution_count": 60,
     "metadata": {},
     "output_type": "execute_result"
    }
   ],
   "source": [
    "df[[\"App\",\"Rating\", \"Installs\"]][df[\"Rating\"]>0].sort_values(\"Rating\").head()"
   ]
  },
  {
   "cell_type": "code",
   "execution_count": 61,
   "id": "df55571b-026c-4ec6-8845-f4da6d27ad22",
   "metadata": {},
   "outputs": [
    {
     "data": {
      "text/html": [
       "<div>\n",
       "<style scoped>\n",
       "    .dataframe tbody tr th:only-of-type {\n",
       "        vertical-align: middle;\n",
       "    }\n",
       "\n",
       "    .dataframe tbody tr th {\n",
       "        vertical-align: top;\n",
       "    }\n",
       "\n",
       "    .dataframe thead th {\n",
       "        text-align: right;\n",
       "    }\n",
       "</style>\n",
       "<table border=\"1\" class=\"dataframe\">\n",
       "  <thead>\n",
       "    <tr style=\"text-align: right;\">\n",
       "      <th></th>\n",
       "      <th>App</th>\n",
       "      <th>Rating</th>\n",
       "      <th>Installs</th>\n",
       "    </tr>\n",
       "  </thead>\n",
       "  <tbody>\n",
       "    <tr>\n",
       "      <th>923</th>\n",
       "      <td>Lose Belly Fat in 30 Days - Flat Stomach</td>\n",
       "      <td>4.9</td>\n",
       "      <td>5000000</td>\n",
       "    </tr>\n",
       "    <tr>\n",
       "      <th>65</th>\n",
       "      <td>Fines of the State Traffic Safety Inspectorate...</td>\n",
       "      <td>4.8</td>\n",
       "      <td>5000000</td>\n",
       "    </tr>\n",
       "    <tr>\n",
       "      <th>2</th>\n",
       "      <td>U Launcher Lite – FREE Live Cool Themes, Hide ...</td>\n",
       "      <td>4.7</td>\n",
       "      <td>5000000</td>\n",
       "    </tr>\n",
       "    <tr>\n",
       "      <th>569</th>\n",
       "      <td>English with Lingualeo</td>\n",
       "      <td>4.7</td>\n",
       "      <td>5000000</td>\n",
       "    </tr>\n",
       "    <tr>\n",
       "      <th>608</th>\n",
       "      <td>Free english course</td>\n",
       "      <td>4.7</td>\n",
       "      <td>5000000</td>\n",
       "    </tr>\n",
       "  </tbody>\n",
       "</table>\n",
       "</div>"
      ],
      "text/plain": [
       "                                                   App  Rating  Installs\n",
       "923           Lose Belly Fat in 30 Days - Flat Stomach     4.9   5000000\n",
       "65   Fines of the State Traffic Safety Inspectorate...     4.8   5000000\n",
       "2    U Launcher Lite – FREE Live Cool Themes, Hide ...     4.7   5000000\n",
       "569                             English with Lingualeo     4.7   5000000\n",
       "608                                Free english course     4.7   5000000"
      ]
     },
     "execution_count": 61,
     "metadata": {},
     "output_type": "execute_result"
    }
   ],
   "source": [
    "df[[\"App\",\"Rating\",\"Installs\"]].sort_values([\"Installs\", \"Rating\"], ascending=False).head()"
   ]
  },
  {
   "cell_type": "code",
   "execution_count": 62,
   "id": "76f083f0-16cb-43c2-91d4-6e6e4966081f",
   "metadata": {},
   "outputs": [
    {
     "data": {
      "text/html": [
       "<div>\n",
       "<style scoped>\n",
       "    .dataframe tbody tr th:only-of-type {\n",
       "        vertical-align: middle;\n",
       "    }\n",
       "\n",
       "    .dataframe tbody tr th {\n",
       "        vertical-align: top;\n",
       "    }\n",
       "\n",
       "    .dataframe thead th {\n",
       "        text-align: right;\n",
       "    }\n",
       "</style>\n",
       "<table border=\"1\" class=\"dataframe\">\n",
       "  <thead>\n",
       "    <tr style=\"text-align: right;\">\n",
       "      <th></th>\n",
       "      <th>App</th>\n",
       "      <th>Reviews</th>\n",
       "      <th>Installs</th>\n",
       "    </tr>\n",
       "  </thead>\n",
       "  <tbody>\n",
       "    <tr>\n",
       "      <th>3105</th>\n",
       "      <td>Fame Boom for Real Followers, Likes</td>\n",
       "      <td>896118</td>\n",
       "      <td>5000000</td>\n",
       "    </tr>\n",
       "    <tr>\n",
       "      <th>1391</th>\n",
       "      <td>FINAL FANTASY BRAVE EXVIUS</td>\n",
       "      <td>745684</td>\n",
       "      <td>5000000</td>\n",
       "    </tr>\n",
       "    <tr>\n",
       "      <th>8199</th>\n",
       "      <td>Castle Clash: Epic Empire ES</td>\n",
       "      <td>584070</td>\n",
       "      <td>5000000</td>\n",
       "    </tr>\n",
       "    <tr>\n",
       "      <th>4253</th>\n",
       "      <td>Egg, Inc.</td>\n",
       "      <td>580160</td>\n",
       "      <td>5000000</td>\n",
       "    </tr>\n",
       "    <tr>\n",
       "      <th>8380</th>\n",
       "      <td>ETERNITY WARRIORS 2</td>\n",
       "      <td>568391</td>\n",
       "      <td>5000000</td>\n",
       "    </tr>\n",
       "  </tbody>\n",
       "</table>\n",
       "</div>"
      ],
      "text/plain": [
       "                                      App  Reviews  Installs\n",
       "3105  Fame Boom for Real Followers, Likes   896118   5000000\n",
       "1391           FINAL FANTASY BRAVE EXVIUS   745684   5000000\n",
       "8199         Castle Clash: Epic Empire ES   584070   5000000\n",
       "4253                            Egg, Inc.   580160   5000000\n",
       "8380                  ETERNITY WARRIORS 2   568391   5000000"
      ]
     },
     "execution_count": 62,
     "metadata": {},
     "output_type": "execute_result"
    }
   ],
   "source": [
    "df[[\"App\",\"Reviews\",\"Installs\"]].sort_values(\"Reviews\", ascending=False).head()"
   ]
  },
  {
   "cell_type": "code",
   "execution_count": 63,
   "id": "3b802cd8-ede8-4c87-b0dc-0e1e93214f42",
   "metadata": {},
   "outputs": [
    {
     "data": {
      "text/html": [
       "<div>\n",
       "<style scoped>\n",
       "    .dataframe tbody tr th:only-of-type {\n",
       "        vertical-align: middle;\n",
       "    }\n",
       "\n",
       "    .dataframe tbody tr th {\n",
       "        vertical-align: top;\n",
       "    }\n",
       "\n",
       "    .dataframe thead th {\n",
       "        text-align: right;\n",
       "    }\n",
       "</style>\n",
       "<table border=\"1\" class=\"dataframe\">\n",
       "  <thead>\n",
       "    <tr style=\"text-align: right;\">\n",
       "      <th></th>\n",
       "      <th>App</th>\n",
       "      <th>Price</th>\n",
       "    </tr>\n",
       "  </thead>\n",
       "  <tbody>\n",
       "    <tr>\n",
       "      <th>3214</th>\n",
       "      <td>I'm Rich - Trump Edition</td>\n",
       "      <td>400.00</td>\n",
       "    </tr>\n",
       "    <tr>\n",
       "      <th>4103</th>\n",
       "      <td>I am rich (Most expensive app)</td>\n",
       "      <td>399.99</td>\n",
       "    </tr>\n",
       "    <tr>\n",
       "      <th>4101</th>\n",
       "      <td>I Am Rich Pro</td>\n",
       "      <td>399.99</td>\n",
       "    </tr>\n",
       "    <tr>\n",
       "      <th>4098</th>\n",
       "      <td>I am rich(premium)</td>\n",
       "      <td>399.99</td>\n",
       "    </tr>\n",
       "    <tr>\n",
       "      <th>4097</th>\n",
       "      <td>I am Rich!</td>\n",
       "      <td>399.99</td>\n",
       "    </tr>\n",
       "  </tbody>\n",
       "</table>\n",
       "</div>"
      ],
      "text/plain": [
       "                                 App   Price\n",
       "3214        I'm Rich - Trump Edition  400.00\n",
       "4103  I am rich (Most expensive app)  399.99\n",
       "4101                   I Am Rich Pro  399.99\n",
       "4098              I am rich(premium)  399.99\n",
       "4097                      I am Rich!  399.99"
      ]
     },
     "execution_count": 63,
     "metadata": {},
     "output_type": "execute_result"
    }
   ],
   "source": [
    "df[[\"App\", \"Price\"]].sort_values(\"Price\", ascending=False).head()"
   ]
  },
  {
   "cell_type": "code",
   "execution_count": 65,
   "id": "54b7c265-00fd-4c2d-bc10-2ae2077ad1a1",
   "metadata": {},
   "outputs": [],
   "source": [
    "cat = df.groupby(\"Category\")"
   ]
  },
  {
   "cell_type": "code",
   "execution_count": 67,
   "id": "488b50ce-7b49-4e99-8eb3-8bf76a0651fb",
   "metadata": {},
   "outputs": [],
   "source": [
    "categoty_df = cat.mean(\"Rating\")"
   ]
  },
  {
   "cell_type": "code",
   "execution_count": 68,
   "id": "e52d70dc-f2ee-4141-b320-deb24dccf368",
   "metadata": {},
   "outputs": [
    {
     "data": {
      "text/html": [
       "<div>\n",
       "<style scoped>\n",
       "    .dataframe tbody tr th:only-of-type {\n",
       "        vertical-align: middle;\n",
       "    }\n",
       "\n",
       "    .dataframe tbody tr th {\n",
       "        vertical-align: top;\n",
       "    }\n",
       "\n",
       "    .dataframe thead th {\n",
       "        text-align: right;\n",
       "    }\n",
       "</style>\n",
       "<table border=\"1\" class=\"dataframe\">\n",
       "  <thead>\n",
       "    <tr style=\"text-align: right;\">\n",
       "      <th></th>\n",
       "      <th>Rating</th>\n",
       "      <th>Reviews</th>\n",
       "      <th>Size</th>\n",
       "      <th>Installs</th>\n",
       "      <th>Price</th>\n",
       "    </tr>\n",
       "    <tr>\n",
       "      <th>Category</th>\n",
       "      <th></th>\n",
       "      <th></th>\n",
       "      <th></th>\n",
       "      <th></th>\n",
       "      <th></th>\n",
       "    </tr>\n",
       "  </thead>\n",
       "  <tbody>\n",
       "    <tr>\n",
       "      <th>ART_AND_DESIGN</th>\n",
       "      <td>4.125862</td>\n",
       "      <td>7378.275862</td>\n",
       "      <td>11776.000000</td>\n",
       "      <td>3.334155e+05</td>\n",
       "      <td>0.102931</td>\n",
       "    </tr>\n",
       "    <tr>\n",
       "      <th>AUTO_AND_VEHICLES</th>\n",
       "      <td>3.461644</td>\n",
       "      <td>7311.698630</td>\n",
       "      <td>20266.230137</td>\n",
       "      <td>3.256193e+05</td>\n",
       "      <td>0.157260</td>\n",
       "    </tr>\n",
       "    <tr>\n",
       "      <th>BEAUTY</th>\n",
       "      <td>3.378723</td>\n",
       "      <td>3975.659574</td>\n",
       "      <td>14126.842553</td>\n",
       "      <td>2.914245e+05</td>\n",
       "      <td>0.000000</td>\n",
       "    </tr>\n",
       "    <tr>\n",
       "      <th>BOOKS_AND_REFERENCE</th>\n",
       "      <td>3.100000</td>\n",
       "      <td>7433.478723</td>\n",
       "      <td>13592.054255</td>\n",
       "      <td>3.136281e+05</td>\n",
       "      <td>0.621170</td>\n",
       "    </tr>\n",
       "    <tr>\n",
       "      <th>BUSINESS</th>\n",
       "      <td>2.457330</td>\n",
       "      <td>4694.929319</td>\n",
       "      <td>14640.234555</td>\n",
       "      <td>2.249151e+05</td>\n",
       "      <td>0.450995</td>\n",
       "    </tr>\n",
       "    <tr>\n",
       "      <th>COMICS</th>\n",
       "      <td>3.968627</td>\n",
       "      <td>12082.235294</td>\n",
       "      <td>13808.505882</td>\n",
       "      <td>3.448265e+05</td>\n",
       "      <td>0.000000</td>\n",
       "    </tr>\n",
       "    <tr>\n",
       "      <th>COMMUNICATION</th>\n",
       "      <td>3.032075</td>\n",
       "      <td>14527.721698</td>\n",
       "      <td>11160.897170</td>\n",
       "      <td>6.681205e+05</td>\n",
       "      <td>0.283962</td>\n",
       "    </tr>\n",
       "    <tr>\n",
       "      <th>DATING</th>\n",
       "      <td>3.215610</td>\n",
       "      <td>11580.551220</td>\n",
       "      <td>17166.236098</td>\n",
       "      <td>3.994181e+05</td>\n",
       "      <td>0.099805</td>\n",
       "    </tr>\n",
       "    <tr>\n",
       "      <th>EDUCATION</th>\n",
       "      <td>4.335417</td>\n",
       "      <td>37965.375000</td>\n",
       "      <td>21088.604167</td>\n",
       "      <td>1.341688e+06</td>\n",
       "      <td>0.187083</td>\n",
       "    </tr>\n",
       "    <tr>\n",
       "      <th>ENTERTAINMENT</th>\n",
       "      <td>4.136667</td>\n",
       "      <td>39200.500000</td>\n",
       "      <td>21143.893333</td>\n",
       "      <td>1.349333e+06</td>\n",
       "      <td>0.049833</td>\n",
       "    </tr>\n",
       "    <tr>\n",
       "      <th>EVENTS</th>\n",
       "      <td>2.985965</td>\n",
       "      <td>2221.912281</td>\n",
       "      <td>14298.743860</td>\n",
       "      <td>1.872307e+05</td>\n",
       "      <td>1.929649</td>\n",
       "    </tr>\n",
       "    <tr>\n",
       "      <th>FAMILY</th>\n",
       "      <td>3.627100</td>\n",
       "      <td>14945.166156</td>\n",
       "      <td>26215.024034</td>\n",
       "      <td>5.388053e+05</td>\n",
       "      <td>1.459178</td>\n",
       "    </tr>\n",
       "    <tr>\n",
       "      <th>FINANCE</th>\n",
       "      <td>3.525939</td>\n",
       "      <td>9677.726962</td>\n",
       "      <td>17114.159727</td>\n",
       "      <td>3.645853e+05</td>\n",
       "      <td>9.900444</td>\n",
       "    </tr>\n",
       "    <tr>\n",
       "      <th>FOOD_AND_DRINK</th>\n",
       "      <td>3.356180</td>\n",
       "      <td>13720.011236</td>\n",
       "      <td>21634.013483</td>\n",
       "      <td>7.605476e+05</td>\n",
       "      <td>0.056067</td>\n",
       "    </tr>\n",
       "    <tr>\n",
       "      <th>GAME</th>\n",
       "      <td>3.921003</td>\n",
       "      <td>35689.192790</td>\n",
       "      <td>39017.314734</td>\n",
       "      <td>1.041637e+06</td>\n",
       "      <td>0.436285</td>\n",
       "    </tr>\n",
       "    <tr>\n",
       "      <th>HEALTH_AND_FITNESS</th>\n",
       "      <td>3.484016</td>\n",
       "      <td>20389.245902</td>\n",
       "      <td>22100.255738</td>\n",
       "      <td>7.311964e+05</td>\n",
       "      <td>0.231066</td>\n",
       "    </tr>\n",
       "    <tr>\n",
       "      <th>HOUSE_AND_HOME</th>\n",
       "      <td>3.360937</td>\n",
       "      <td>7566.250000</td>\n",
       "      <td>15912.650000</td>\n",
       "      <td>5.486322e+05</td>\n",
       "      <td>0.000000</td>\n",
       "    </tr>\n",
       "    <tr>\n",
       "      <th>LIBRARIES_AND_DEMO</th>\n",
       "      <td>3.090667</td>\n",
       "      <td>2953.680000</td>\n",
       "      <td>10943.672000</td>\n",
       "      <td>2.112788e+05</td>\n",
       "      <td>0.013200</td>\n",
       "    </tr>\n",
       "    <tr>\n",
       "      <th>LIFESTYLE</th>\n",
       "      <td>3.272393</td>\n",
       "      <td>6264.187117</td>\n",
       "      <td>14480.164417</td>\n",
       "      <td>3.919351e+05</td>\n",
       "      <td>7.218988</td>\n",
       "    </tr>\n",
       "    <tr>\n",
       "      <th>MAPS_AND_NAVIGATION</th>\n",
       "      <td>3.483000</td>\n",
       "      <td>13140.820000</td>\n",
       "      <td>16510.482000</td>\n",
       "      <td>5.502989e+05</td>\n",
       "      <td>0.149600</td>\n",
       "    </tr>\n",
       "    <tr>\n",
       "      <th>MEDICAL</th>\n",
       "      <td>3.130947</td>\n",
       "      <td>3287.399538</td>\n",
       "      <td>20145.733949</td>\n",
       "      <td>1.074915e+05</td>\n",
       "      <td>3.210346</td>\n",
       "    </tr>\n",
       "    <tr>\n",
       "      <th>NEWS_AND_MAGAZINES</th>\n",
       "      <td>3.131606</td>\n",
       "      <td>12706.963731</td>\n",
       "      <td>12985.558549</td>\n",
       "      <td>3.730811e+05</td>\n",
       "      <td>0.020622</td>\n",
       "    </tr>\n",
       "    <tr>\n",
       "      <th>PARENTING</th>\n",
       "      <td>3.520755</td>\n",
       "      <td>4275.716981</td>\n",
       "      <td>22290.354717</td>\n",
       "      <td>2.636040e+05</td>\n",
       "      <td>0.094151</td>\n",
       "    </tr>\n",
       "    <tr>\n",
       "      <th>PERSONALIZATION</th>\n",
       "      <td>3.303762</td>\n",
       "      <td>8428.463950</td>\n",
       "      <td>11690.249530</td>\n",
       "      <td>4.645038e+05</td>\n",
       "      <td>0.404514</td>\n",
       "    </tr>\n",
       "    <tr>\n",
       "      <th>PHOTOGRAPHY</th>\n",
       "      <td>3.646328</td>\n",
       "      <td>16915.107345</td>\n",
       "      <td>14232.484746</td>\n",
       "      <td>1.005015e+06</td>\n",
       "      <td>0.674181</td>\n",
       "    </tr>\n",
       "    <tr>\n",
       "      <th>PRODUCTIVITY</th>\n",
       "      <td>3.050379</td>\n",
       "      <td>11617.443182</td>\n",
       "      <td>11944.156061</td>\n",
       "      <td>4.992642e+05</td>\n",
       "      <td>0.870038</td>\n",
       "    </tr>\n",
       "    <tr>\n",
       "      <th>SHOPPING</th>\n",
       "      <td>3.572789</td>\n",
       "      <td>17298.238095</td>\n",
       "      <td>14913.945578</td>\n",
       "      <td>9.811482e+05</td>\n",
       "      <td>0.037279</td>\n",
       "    </tr>\n",
       "    <tr>\n",
       "      <th>SOCIAL</th>\n",
       "      <td>3.462500</td>\n",
       "      <td>22737.965909</td>\n",
       "      <td>14279.860227</td>\n",
       "      <td>7.117318e+05</td>\n",
       "      <td>0.090739</td>\n",
       "    </tr>\n",
       "    <tr>\n",
       "      <th>SPORTS</th>\n",
       "      <td>3.189219</td>\n",
       "      <td>16547.546468</td>\n",
       "      <td>23003.736059</td>\n",
       "      <td>7.395892e+05</td>\n",
       "      <td>0.323494</td>\n",
       "    </tr>\n",
       "    <tr>\n",
       "      <th>TOOLS</th>\n",
       "      <td>3.332037</td>\n",
       "      <td>8030.276827</td>\n",
       "      <td>8979.364230</td>\n",
       "      <td>4.281658e+05</td>\n",
       "      <td>0.350700</td>\n",
       "    </tr>\n",
       "    <tr>\n",
       "      <th>TRAVEL_AND_LOCAL</th>\n",
       "      <td>3.244970</td>\n",
       "      <td>10037.810651</td>\n",
       "      <td>25792.313609</td>\n",
       "      <td>8.086458e+05</td>\n",
       "      <td>0.230592</td>\n",
       "    </tr>\n",
       "    <tr>\n",
       "      <th>VIDEO_PLAYERS</th>\n",
       "      <td>3.355446</td>\n",
       "      <td>8709.891089</td>\n",
       "      <td>14882.770297</td>\n",
       "      <td>5.125517e+05</td>\n",
       "      <td>0.009802</td>\n",
       "    </tr>\n",
       "    <tr>\n",
       "      <th>WEATHER</th>\n",
       "      <td>3.735294</td>\n",
       "      <td>16202.901961</td>\n",
       "      <td>12470.078431</td>\n",
       "      <td>7.705886e+05</td>\n",
       "      <td>0.459608</td>\n",
       "    </tr>\n",
       "  </tbody>\n",
       "</table>\n",
       "</div>"
      ],
      "text/plain": [
       "                       Rating       Reviews          Size      Installs  \\\n",
       "Category                                                                  \n",
       "ART_AND_DESIGN       4.125862   7378.275862  11776.000000  3.334155e+05   \n",
       "AUTO_AND_VEHICLES    3.461644   7311.698630  20266.230137  3.256193e+05   \n",
       "BEAUTY               3.378723   3975.659574  14126.842553  2.914245e+05   \n",
       "BOOKS_AND_REFERENCE  3.100000   7433.478723  13592.054255  3.136281e+05   \n",
       "BUSINESS             2.457330   4694.929319  14640.234555  2.249151e+05   \n",
       "COMICS               3.968627  12082.235294  13808.505882  3.448265e+05   \n",
       "COMMUNICATION        3.032075  14527.721698  11160.897170  6.681205e+05   \n",
       "DATING               3.215610  11580.551220  17166.236098  3.994181e+05   \n",
       "EDUCATION            4.335417  37965.375000  21088.604167  1.341688e+06   \n",
       "ENTERTAINMENT        4.136667  39200.500000  21143.893333  1.349333e+06   \n",
       "EVENTS               2.985965   2221.912281  14298.743860  1.872307e+05   \n",
       "FAMILY               3.627100  14945.166156  26215.024034  5.388053e+05   \n",
       "FINANCE              3.525939   9677.726962  17114.159727  3.645853e+05   \n",
       "FOOD_AND_DRINK       3.356180  13720.011236  21634.013483  7.605476e+05   \n",
       "GAME                 3.921003  35689.192790  39017.314734  1.041637e+06   \n",
       "HEALTH_AND_FITNESS   3.484016  20389.245902  22100.255738  7.311964e+05   \n",
       "HOUSE_AND_HOME       3.360937   7566.250000  15912.650000  5.486322e+05   \n",
       "LIBRARIES_AND_DEMO   3.090667   2953.680000  10943.672000  2.112788e+05   \n",
       "LIFESTYLE            3.272393   6264.187117  14480.164417  3.919351e+05   \n",
       "MAPS_AND_NAVIGATION  3.483000  13140.820000  16510.482000  5.502989e+05   \n",
       "MEDICAL              3.130947   3287.399538  20145.733949  1.074915e+05   \n",
       "NEWS_AND_MAGAZINES   3.131606  12706.963731  12985.558549  3.730811e+05   \n",
       "PARENTING            3.520755   4275.716981  22290.354717  2.636040e+05   \n",
       "PERSONALIZATION      3.303762   8428.463950  11690.249530  4.645038e+05   \n",
       "PHOTOGRAPHY          3.646328  16915.107345  14232.484746  1.005015e+06   \n",
       "PRODUCTIVITY         3.050379  11617.443182  11944.156061  4.992642e+05   \n",
       "SHOPPING             3.572789  17298.238095  14913.945578  9.811482e+05   \n",
       "SOCIAL               3.462500  22737.965909  14279.860227  7.117318e+05   \n",
       "SPORTS               3.189219  16547.546468  23003.736059  7.395892e+05   \n",
       "TOOLS                3.332037   8030.276827   8979.364230  4.281658e+05   \n",
       "TRAVEL_AND_LOCAL     3.244970  10037.810651  25792.313609  8.086458e+05   \n",
       "VIDEO_PLAYERS        3.355446   8709.891089  14882.770297  5.125517e+05   \n",
       "WEATHER              3.735294  16202.901961  12470.078431  7.705886e+05   \n",
       "\n",
       "                        Price  \n",
       "Category                       \n",
       "ART_AND_DESIGN       0.102931  \n",
       "AUTO_AND_VEHICLES    0.157260  \n",
       "BEAUTY               0.000000  \n",
       "BOOKS_AND_REFERENCE  0.621170  \n",
       "BUSINESS             0.450995  \n",
       "COMICS               0.000000  \n",
       "COMMUNICATION        0.283962  \n",
       "DATING               0.099805  \n",
       "EDUCATION            0.187083  \n",
       "ENTERTAINMENT        0.049833  \n",
       "EVENTS               1.929649  \n",
       "FAMILY               1.459178  \n",
       "FINANCE              9.900444  \n",
       "FOOD_AND_DRINK       0.056067  \n",
       "GAME                 0.436285  \n",
       "HEALTH_AND_FITNESS   0.231066  \n",
       "HOUSE_AND_HOME       0.000000  \n",
       "LIBRARIES_AND_DEMO   0.013200  \n",
       "LIFESTYLE            7.218988  \n",
       "MAPS_AND_NAVIGATION  0.149600  \n",
       "MEDICAL              3.210346  \n",
       "NEWS_AND_MAGAZINES   0.020622  \n",
       "PARENTING            0.094151  \n",
       "PERSONALIZATION      0.404514  \n",
       "PHOTOGRAPHY          0.674181  \n",
       "PRODUCTIVITY         0.870038  \n",
       "SHOPPING             0.037279  \n",
       "SOCIAL               0.090739  \n",
       "SPORTS               0.323494  \n",
       "TOOLS                0.350700  \n",
       "TRAVEL_AND_LOCAL     0.230592  \n",
       "VIDEO_PLAYERS        0.009802  \n",
       "WEATHER              0.459608  "
      ]
     },
     "execution_count": 68,
     "metadata": {},
     "output_type": "execute_result"
    }
   ],
   "source": [
    "categoty_df"
   ]
  },
  {
   "cell_type": "code",
   "execution_count": 69,
   "id": "fb5253cc-3019-4d2b-a5dd-ded2feb24a80",
   "metadata": {},
   "outputs": [],
   "source": [
    "cont = df.groupby(\"Content Rating\")"
   ]
  },
  {
   "cell_type": "code",
   "execution_count": 71,
   "id": "6a8c3d42-c577-49c3-b6d0-b1281084bcac",
   "metadata": {},
   "outputs": [],
   "source": [
    "content_rating_df = cont.mean(\"Rating\")"
   ]
  },
  {
   "cell_type": "code",
   "execution_count": null,
   "id": "e79f2280-b883-43a8-8a47-48dd074d3e6c",
   "metadata": {},
   "outputs": [],
   "source": []
  },
  {
   "cell_type": "code",
   "execution_count": 72,
   "id": "f34701c8-b674-408b-9378-213b57908e37",
   "metadata": {},
   "outputs": [
    {
     "data": {
      "text/html": [
       "<div>\n",
       "<style scoped>\n",
       "    .dataframe tbody tr th:only-of-type {\n",
       "        vertical-align: middle;\n",
       "    }\n",
       "\n",
       "    .dataframe tbody tr th {\n",
       "        vertical-align: top;\n",
       "    }\n",
       "\n",
       "    .dataframe thead th {\n",
       "        text-align: right;\n",
       "    }\n",
       "</style>\n",
       "<table border=\"1\" class=\"dataframe\">\n",
       "  <thead>\n",
       "    <tr style=\"text-align: right;\">\n",
       "      <th></th>\n",
       "      <th>Rating</th>\n",
       "      <th>Reviews</th>\n",
       "      <th>Size</th>\n",
       "      <th>Installs</th>\n",
       "      <th>Price</th>\n",
       "    </tr>\n",
       "    <tr>\n",
       "      <th>Content Rating</th>\n",
       "      <th></th>\n",
       "      <th></th>\n",
       "      <th></th>\n",
       "      <th></th>\n",
       "      <th></th>\n",
       "    </tr>\n",
       "  </thead>\n",
       "  <tbody>\n",
       "    <tr>\n",
       "      <th>Adults only 18+</th>\n",
       "      <td>4.550000</td>\n",
       "      <td>37011.000000</td>\n",
       "      <td>23500.800000</td>\n",
       "      <td>750000.000000</td>\n",
       "      <td>0.000000</td>\n",
       "    </tr>\n",
       "    <tr>\n",
       "      <th>Everyone</th>\n",
       "      <td>3.354633</td>\n",
       "      <td>10936.604633</td>\n",
       "      <td>17960.834244</td>\n",
       "      <td>497957.867137</td>\n",
       "      <td>1.516915</td>\n",
       "    </tr>\n",
       "    <tr>\n",
       "      <th>Everyone 10+</th>\n",
       "      <td>3.937168</td>\n",
       "      <td>34676.207965</td>\n",
       "      <td>33703.646018</td>\n",
       "      <td>828189.115044</td>\n",
       "      <td>0.618230</td>\n",
       "    </tr>\n",
       "    <tr>\n",
       "      <th>Mature 17+</th>\n",
       "      <td>3.626934</td>\n",
       "      <td>17581.515759</td>\n",
       "      <td>23492.004011</td>\n",
       "      <td>579825.724928</td>\n",
       "      <td>0.298395</td>\n",
       "    </tr>\n",
       "    <tr>\n",
       "      <th>Teen</th>\n",
       "      <td>3.560864</td>\n",
       "      <td>30308.931385</td>\n",
       "      <td>27829.527319</td>\n",
       "      <td>912793.860229</td>\n",
       "      <td>0.827560</td>\n",
       "    </tr>\n",
       "    <tr>\n",
       "      <th>Unrated</th>\n",
       "      <td>2.050000</td>\n",
       "      <td>593.500000</td>\n",
       "      <td>4556.800000</td>\n",
       "      <td>25250.000000</td>\n",
       "      <td>0.000000</td>\n",
       "    </tr>\n",
       "  </tbody>\n",
       "</table>\n",
       "</div>"
      ],
      "text/plain": [
       "                   Rating       Reviews          Size       Installs     Price\n",
       "Content Rating                                                                \n",
       "Adults only 18+  4.550000  37011.000000  23500.800000  750000.000000  0.000000\n",
       "Everyone         3.354633  10936.604633  17960.834244  497957.867137  1.516915\n",
       "Everyone 10+     3.937168  34676.207965  33703.646018  828189.115044  0.618230\n",
       "Mature 17+       3.626934  17581.515759  23492.004011  579825.724928  0.298395\n",
       "Teen             3.560864  30308.931385  27829.527319  912793.860229  0.827560\n",
       "Unrated          2.050000    593.500000   4556.800000   25250.000000  0.000000"
      ]
     },
     "execution_count": 72,
     "metadata": {},
     "output_type": "execute_result"
    }
   ],
   "source": [
    "content_rating_df"
   ]
  },
  {
   "cell_type": "code",
   "execution_count": null,
   "id": "8a0aaf0a-d90a-45e3-b41c-e1e62a27efba",
   "metadata": {},
   "outputs": [],
   "source": []
  }
 ],
 "metadata": {
  "kernelspec": {
   "display_name": "Python 3 (ipykernel)",
   "language": "python",
   "name": "python3"
  },
  "language_info": {
   "codemirror_mode": {
    "name": "ipython",
    "version": 3
   },
   "file_extension": ".py",
   "mimetype": "text/x-python",
   "name": "python",
   "nbconvert_exporter": "python",
   "pygments_lexer": "ipython3",
   "version": "3.10.9"
  }
 },
 "nbformat": 4,
 "nbformat_minor": 5
}
